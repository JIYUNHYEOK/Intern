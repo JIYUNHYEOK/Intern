{
 "cells": [
  {
   "cell_type": "markdown",
   "metadata": {},
   "source": [
    "# Module Import"
   ]
  },
  {
   "cell_type": "code",
   "execution_count": 2,
   "metadata": {},
   "outputs": [],
   "source": [
    "import pandas as pd\n",
    "import numpy as np\n",
    "import openpyxl\n",
    "\n",
    "import statsmodels.formula.api as smf\n",
    "\n",
    "import matplotlib.pyplot as plt\n",
    "import seaborn as sns\n",
    "\n",
    "import warnings\n",
    "\n",
    "# pandas 경고 무시\n",
    "pd.set_option('mode.chained_assignment',  None)\n",
    "\n",
    "from matplotlib import font_manager, rc\n",
    "\n",
    "font_name = font_manager.FontProperties(fname=\"c:/Windows/Fonts/malgun.ttf\").get_name()\n",
    "rc('font', family=font_name)"
   ]
  },
  {
   "cell_type": "markdown",
   "metadata": {},
   "source": [
    "# Data Load"
   ]
  },
  {
   "cell_type": "code",
   "execution_count": 3,
   "metadata": {},
   "outputs": [
    {
     "name": "stdout",
     "output_type": "stream",
     "text": [
      "(54051, 51)\n"
     ]
    },
    {
     "data": {
      "text/html": [
       "<div>\n",
       "<style scoped>\n",
       "    .dataframe tbody tr th:only-of-type {\n",
       "        vertical-align: middle;\n",
       "    }\n",
       "\n",
       "    .dataframe tbody tr th {\n",
       "        vertical-align: top;\n",
       "    }\n",
       "\n",
       "    .dataframe thead th {\n",
       "        text-align: right;\n",
       "    }\n",
       "</style>\n",
       "<table border=\"1\" class=\"dataframe\">\n",
       "  <thead>\n",
       "    <tr style=\"text-align: right;\">\n",
       "      <th></th>\n",
       "      <th>번호</th>\n",
       "      <th>개방서비스명</th>\n",
       "      <th>개방서비스아이디</th>\n",
       "      <th>개방자치단체코드</th>\n",
       "      <th>관리번호</th>\n",
       "      <th>인허가일자</th>\n",
       "      <th>인허가취소일자</th>\n",
       "      <th>영업상태구분코드</th>\n",
       "      <th>영업상태명</th>\n",
       "      <th>상세영업상태코드</th>\n",
       "      <th>...</th>\n",
       "      <th>조건부허가시작일자</th>\n",
       "      <th>조건부허가종료일자</th>\n",
       "      <th>건물소유구분명</th>\n",
       "      <th>세탁기수</th>\n",
       "      <th>여성종사자수</th>\n",
       "      <th>남성종사자수</th>\n",
       "      <th>회수건조수</th>\n",
       "      <th>침대수</th>\n",
       "      <th>다중이용업소여부</th>\n",
       "      <th>Unnamed: 50</th>\n",
       "    </tr>\n",
       "  </thead>\n",
       "  <tbody>\n",
       "    <tr>\n",
       "      <th>0</th>\n",
       "      <td>1</td>\n",
       "      <td>숙박업</td>\n",
       "      <td>03_11_03_P</td>\n",
       "      <td>3620000</td>\n",
       "      <td>3620000-201-2005-00005</td>\n",
       "      <td>20050818</td>\n",
       "      <td>NaN</td>\n",
       "      <td>1</td>\n",
       "      <td>영업/정상</td>\n",
       "      <td>1</td>\n",
       "      <td>...</td>\n",
       "      <td>NaN</td>\n",
       "      <td>NaN</td>\n",
       "      <td>임대</td>\n",
       "      <td>0.0</td>\n",
       "      <td>NaN</td>\n",
       "      <td>NaN</td>\n",
       "      <td>0.0</td>\n",
       "      <td>0.0</td>\n",
       "      <td>N</td>\n",
       "      <td>NaN</td>\n",
       "    </tr>\n",
       "    <tr>\n",
       "      <th>1</th>\n",
       "      <td>2</td>\n",
       "      <td>숙박업</td>\n",
       "      <td>03_11_03_P</td>\n",
       "      <td>3620000</td>\n",
       "      <td>3620000-201-2000-00013</td>\n",
       "      <td>20000615</td>\n",
       "      <td>NaN</td>\n",
       "      <td>1</td>\n",
       "      <td>영업/정상</td>\n",
       "      <td>1</td>\n",
       "      <td>...</td>\n",
       "      <td>NaN</td>\n",
       "      <td>NaN</td>\n",
       "      <td>NaN</td>\n",
       "      <td>0.0</td>\n",
       "      <td>NaN</td>\n",
       "      <td>NaN</td>\n",
       "      <td>0.0</td>\n",
       "      <td>0.0</td>\n",
       "      <td>N</td>\n",
       "      <td>NaN</td>\n",
       "    </tr>\n",
       "    <tr>\n",
       "      <th>2</th>\n",
       "      <td>3</td>\n",
       "      <td>숙박업</td>\n",
       "      <td>03_11_03_P</td>\n",
       "      <td>3620000</td>\n",
       "      <td>3620000-214-1985-00002</td>\n",
       "      <td>19851119</td>\n",
       "      <td>NaN</td>\n",
       "      <td>1</td>\n",
       "      <td>영업/정상</td>\n",
       "      <td>1</td>\n",
       "      <td>...</td>\n",
       "      <td>NaN</td>\n",
       "      <td>NaN</td>\n",
       "      <td>자가</td>\n",
       "      <td>0.0</td>\n",
       "      <td>NaN</td>\n",
       "      <td>NaN</td>\n",
       "      <td>0.0</td>\n",
       "      <td>0.0</td>\n",
       "      <td>N</td>\n",
       "      <td>NaN</td>\n",
       "    </tr>\n",
       "    <tr>\n",
       "      <th>3</th>\n",
       "      <td>4</td>\n",
       "      <td>숙박업</td>\n",
       "      <td>03_11_03_P</td>\n",
       "      <td>3620000</td>\n",
       "      <td>3620000-201-2000-00014</td>\n",
       "      <td>20000710</td>\n",
       "      <td>NaN</td>\n",
       "      <td>1</td>\n",
       "      <td>영업/정상</td>\n",
       "      <td>1</td>\n",
       "      <td>...</td>\n",
       "      <td>NaN</td>\n",
       "      <td>NaN</td>\n",
       "      <td>자가</td>\n",
       "      <td>0.0</td>\n",
       "      <td>NaN</td>\n",
       "      <td>NaN</td>\n",
       "      <td>0.0</td>\n",
       "      <td>0.0</td>\n",
       "      <td>N</td>\n",
       "      <td>NaN</td>\n",
       "    </tr>\n",
       "    <tr>\n",
       "      <th>4</th>\n",
       "      <td>5</td>\n",
       "      <td>숙박업</td>\n",
       "      <td>03_11_03_P</td>\n",
       "      <td>3620000</td>\n",
       "      <td>3620000-201-2002-00007</td>\n",
       "      <td>20020429</td>\n",
       "      <td>NaN</td>\n",
       "      <td>1</td>\n",
       "      <td>영업/정상</td>\n",
       "      <td>1</td>\n",
       "      <td>...</td>\n",
       "      <td>NaN</td>\n",
       "      <td>NaN</td>\n",
       "      <td>NaN</td>\n",
       "      <td>0.0</td>\n",
       "      <td>NaN</td>\n",
       "      <td>NaN</td>\n",
       "      <td>0.0</td>\n",
       "      <td>0.0</td>\n",
       "      <td>N</td>\n",
       "      <td>NaN</td>\n",
       "    </tr>\n",
       "  </tbody>\n",
       "</table>\n",
       "<p>5 rows × 51 columns</p>\n",
       "</div>"
      ],
      "text/plain": [
       "   번호 개방서비스명    개방서비스아이디  개방자치단체코드                    관리번호     인허가일자  인허가취소일자  \\\n",
       "0   1    숙박업  03_11_03_P   3620000  3620000-201-2005-00005  20050818      NaN   \n",
       "1   2    숙박업  03_11_03_P   3620000  3620000-201-2000-00013  20000615      NaN   \n",
       "2   3    숙박업  03_11_03_P   3620000  3620000-214-1985-00002  19851119      NaN   \n",
       "3   4    숙박업  03_11_03_P   3620000  3620000-201-2000-00014  20000710      NaN   \n",
       "4   5    숙박업  03_11_03_P   3620000  3620000-201-2002-00007  20020429      NaN   \n",
       "\n",
       "   영업상태구분코드  영업상태명  상세영업상태코드  ... 조건부허가시작일자  조건부허가종료일자  건물소유구분명  세탁기수  여성종사자수  \\\n",
       "0         1  영업/정상         1  ...       NaN        NaN       임대   0.0     NaN   \n",
       "1         1  영업/정상         1  ...       NaN        NaN      NaN   0.0     NaN   \n",
       "2         1  영업/정상         1  ...       NaN        NaN       자가   0.0     NaN   \n",
       "3         1  영업/정상         1  ...       NaN        NaN       자가   0.0     NaN   \n",
       "4         1  영업/정상         1  ...       NaN        NaN      NaN   0.0     NaN   \n",
       "\n",
       "  남성종사자수 회수건조수  침대수 다중이용업소여부 Unnamed: 50  \n",
       "0    NaN   0.0  0.0        N         NaN  \n",
       "1    NaN   0.0  0.0        N         NaN  \n",
       "2    NaN   0.0  0.0        N         NaN  \n",
       "3    NaN   0.0  0.0        N         NaN  \n",
       "4    NaN   0.0  0.0        N         NaN  \n",
       "\n",
       "[5 rows x 51 columns]"
      ]
     },
     "execution_count": 3,
     "metadata": {},
     "output_type": "execute_result"
    }
   ],
   "source": [
    "data = pd.read_csv('../data/행정자치부 공공데이터 숙박업 등록현황.csv', encoding = 'cp949')\n",
    "# 데이터 출처 : 공공데이터포털 / 행정안전부_숙박업 데이터\n",
    "# https://www.data.go.kr/data/15044968/fileData.do\n",
    "print(data.shape)\n",
    "data.head()"
   ]
  },
  {
   "cell_type": "markdown",
   "metadata": {},
   "source": [
    "# Data Preprocessing"
   ]
  },
  {
   "cell_type": "code",
   "execution_count": 4,
   "metadata": {},
   "outputs": [],
   "source": [
    "# 영업중인 숙박시설만 추출\n",
    "df = data[data['상세영업상태명']==\"영업\"]\n",
    "\n",
    "# 필요한 열만 추출 \n",
    "df = df[['사업장명','업태구분명', '인허가일자']]\n",
    "\n",
    "# 인허가일자 중 연도만 추출\n",
    "df['인허가일자'] = df['인허가일자'].apply(lambda x: str(x)[:4])\n",
    "df['인허가일자'] = df['인허가일자'].astype(int)\n",
    "\n",
    "# 2022년 데이터 제거\n",
    "df = df[df['인허가일자']<2022]\n",
    "\n",
    "df = df.rename(columns={'사업장명':'name', '업태구분명':'type', '인허가일자':'year'})"
   ]
  },
  {
   "cell_type": "code",
   "execution_count": 5,
   "metadata": {},
   "outputs": [],
   "source": [
    "# 숙박업 유형 변경\n",
    "def hoteltype(x):\n",
    "    if x == '숙박업(생활)':\n",
    "        return '생활형숙박시설'\n",
    "    else:\n",
    "        return '일반숙박시설'"
   ]
  },
  {
   "cell_type": "code",
   "execution_count": 6,
   "metadata": {},
   "outputs": [
    {
     "data": {
      "text/html": [
       "<div>\n",
       "<style scoped>\n",
       "    .dataframe tbody tr th:only-of-type {\n",
       "        vertical-align: middle;\n",
       "    }\n",
       "\n",
       "    .dataframe tbody tr th {\n",
       "        vertical-align: top;\n",
       "    }\n",
       "\n",
       "    .dataframe thead th {\n",
       "        text-align: right;\n",
       "    }\n",
       "</style>\n",
       "<table border=\"1\" class=\"dataframe\">\n",
       "  <thead>\n",
       "    <tr style=\"text-align: right;\">\n",
       "      <th></th>\n",
       "      <th>name</th>\n",
       "      <th>type</th>\n",
       "      <th>year</th>\n",
       "    </tr>\n",
       "  </thead>\n",
       "  <tbody>\n",
       "    <tr>\n",
       "      <th>0</th>\n",
       "      <td>야자</td>\n",
       "      <td>일반숙박시설</td>\n",
       "      <td>2005</td>\n",
       "    </tr>\n",
       "    <tr>\n",
       "      <th>1</th>\n",
       "      <td>엔(N)모텔</td>\n",
       "      <td>일반숙박시설</td>\n",
       "      <td>2000</td>\n",
       "    </tr>\n",
       "    <tr>\n",
       "      <th>2</th>\n",
       "      <td>디오앤에스임동</td>\n",
       "      <td>생활형숙박시설</td>\n",
       "      <td>1985</td>\n",
       "    </tr>\n",
       "    <tr>\n",
       "      <th>3</th>\n",
       "      <td>에로스모텔</td>\n",
       "      <td>일반숙박시설</td>\n",
       "      <td>2000</td>\n",
       "    </tr>\n",
       "    <tr>\n",
       "      <th>4</th>\n",
       "      <td>클라우드인호텔</td>\n",
       "      <td>일반숙박시설</td>\n",
       "      <td>2002</td>\n",
       "    </tr>\n",
       "  </tbody>\n",
       "</table>\n",
       "</div>"
      ],
      "text/plain": [
       "      name     type  year\n",
       "0       야자   일반숙박시설  2005\n",
       "1   엔(N)모텔   일반숙박시설  2000\n",
       "2  디오앤에스임동  생활형숙박시설  1985\n",
       "3    에로스모텔   일반숙박시설  2000\n",
       "4  클라우드인호텔   일반숙박시설  2002"
      ]
     },
     "execution_count": 6,
     "metadata": {},
     "output_type": "execute_result"
    }
   ],
   "source": [
    "df['type'] = df['type'].apply(hoteltype)\n",
    "df.head()"
   ]
  },
  {
   "cell_type": "code",
   "execution_count": 7,
   "metadata": {},
   "outputs": [
    {
     "data": {
      "text/html": [
       "<div>\n",
       "<style scoped>\n",
       "    .dataframe tbody tr th:only-of-type {\n",
       "        vertical-align: middle;\n",
       "    }\n",
       "\n",
       "    .dataframe tbody tr th {\n",
       "        vertical-align: top;\n",
       "    }\n",
       "\n",
       "    .dataframe thead th {\n",
       "        text-align: right;\n",
       "    }\n",
       "</style>\n",
       "<table border=\"1\" class=\"dataframe\">\n",
       "  <thead>\n",
       "    <tr style=\"text-align: right;\">\n",
       "      <th></th>\n",
       "      <th>name</th>\n",
       "      <th>type</th>\n",
       "      <th>year</th>\n",
       "    </tr>\n",
       "  </thead>\n",
       "  <tbody>\n",
       "    <tr>\n",
       "      <th>0</th>\n",
       "      <td>야자</td>\n",
       "      <td>일반숙박시설</td>\n",
       "      <td>2005</td>\n",
       "    </tr>\n",
       "    <tr>\n",
       "      <th>1</th>\n",
       "      <td>엔(N)모텔</td>\n",
       "      <td>일반숙박시설</td>\n",
       "      <td>2000</td>\n",
       "    </tr>\n",
       "    <tr>\n",
       "      <th>3</th>\n",
       "      <td>에로스모텔</td>\n",
       "      <td>일반숙박시설</td>\n",
       "      <td>2000</td>\n",
       "    </tr>\n",
       "    <tr>\n",
       "      <th>4</th>\n",
       "      <td>클라우드인호텔</td>\n",
       "      <td>일반숙박시설</td>\n",
       "      <td>2002</td>\n",
       "    </tr>\n",
       "    <tr>\n",
       "      <th>5</th>\n",
       "      <td>다빈치모텔</td>\n",
       "      <td>일반숙박시설</td>\n",
       "      <td>2000</td>\n",
       "    </tr>\n",
       "  </tbody>\n",
       "</table>\n",
       "</div>"
      ],
      "text/plain": [
       "      name    type  year\n",
       "0       야자  일반숙박시설  2005\n",
       "1   엔(N)모텔  일반숙박시설  2000\n",
       "3    에로스모텔  일반숙박시설  2000\n",
       "4  클라우드인호텔  일반숙박시설  2002\n",
       "5    다빈치모텔  일반숙박시설  2000"
      ]
     },
     "metadata": {},
     "output_type": "display_data"
    },
    {
     "data": {
      "text/html": [
       "<div>\n",
       "<style scoped>\n",
       "    .dataframe tbody tr th:only-of-type {\n",
       "        vertical-align: middle;\n",
       "    }\n",
       "\n",
       "    .dataframe tbody tr th {\n",
       "        vertical-align: top;\n",
       "    }\n",
       "\n",
       "    .dataframe thead th {\n",
       "        text-align: right;\n",
       "    }\n",
       "</style>\n",
       "<table border=\"1\" class=\"dataframe\">\n",
       "  <thead>\n",
       "    <tr style=\"text-align: right;\">\n",
       "      <th></th>\n",
       "      <th>name</th>\n",
       "      <th>type</th>\n",
       "      <th>year</th>\n",
       "    </tr>\n",
       "  </thead>\n",
       "  <tbody>\n",
       "    <tr>\n",
       "      <th>2</th>\n",
       "      <td>디오앤에스임동</td>\n",
       "      <td>생활형숙박시설</td>\n",
       "      <td>1985</td>\n",
       "    </tr>\n",
       "    <tr>\n",
       "      <th>12</th>\n",
       "      <td>실크로드</td>\n",
       "      <td>생활형숙박시설</td>\n",
       "      <td>1985</td>\n",
       "    </tr>\n",
       "    <tr>\n",
       "      <th>299</th>\n",
       "      <td>경주게스트하우스</td>\n",
       "      <td>생활형숙박시설</td>\n",
       "      <td>1995</td>\n",
       "    </tr>\n",
       "    <tr>\n",
       "      <th>329</th>\n",
       "      <td>씨엘미니호텔</td>\n",
       "      <td>생활형숙박시설</td>\n",
       "      <td>1989</td>\n",
       "    </tr>\n",
       "    <tr>\n",
       "      <th>330</th>\n",
       "      <td>청춘게스트하우스 호스텔</td>\n",
       "      <td>생활형숙박시설</td>\n",
       "      <td>2017</td>\n",
       "    </tr>\n",
       "  </tbody>\n",
       "</table>\n",
       "</div>"
      ],
      "text/plain": [
       "             name     type  year\n",
       "2         디오앤에스임동  생활형숙박시설  1985\n",
       "12           실크로드  생활형숙박시설  1985\n",
       "299      경주게스트하우스  생활형숙박시설  1995\n",
       "329        씨엘미니호텔  생활형숙박시설  1989\n",
       "330  청춘게스트하우스 호스텔  생활형숙박시설  2017"
      ]
     },
     "metadata": {},
     "output_type": "display_data"
    }
   ],
   "source": [
    "# 일반숙박시설과 생활형숙박시설 분리\n",
    "\n",
    "df_normal = df[df['type']=='일반숙박시설']\n",
    "df_residence = df[df['type']=='생활형숙박시설']\n",
    "display(df_normal.head())\n",
    "display(df_residence.head())\n",
    "\n",
    "#2010년 이후 데이터만 추출\n",
    "after2010 = df[df['year']>=2010]\n",
    "after2010_normal = after2010[after2010['type']=='일반숙박시설']\n",
    "after2010_residence = after2010[after2010['type']=='생활형숙박시설']"
   ]
  },
  {
   "cell_type": "code",
   "execution_count": 8,
   "metadata": {},
   "outputs": [],
   "source": [
    "year_list = list(np.arange(2010,2022,1))*2\n",
    "type_list = ['일반숙박시설']*12+['생활형숙박시설']*12\n",
    "count_list = list(after2010_normal.groupby('year')['type'].count()) + list(after2010_residence.groupby('year')['type'].count())\n",
    "cumsum_list = list(after2010_normal.groupby('year')['type'].count().cumsum()) + list(after2010_residence.groupby('year')['type'].count().cumsum())"
   ]
  },
  {
   "cell_type": "code",
   "execution_count": 9,
   "metadata": {},
   "outputs": [
    {
     "data": {
      "text/html": [
       "<div>\n",
       "<style scoped>\n",
       "    .dataframe tbody tr th:only-of-type {\n",
       "        vertical-align: middle;\n",
       "    }\n",
       "\n",
       "    .dataframe tbody tr th {\n",
       "        vertical-align: top;\n",
       "    }\n",
       "\n",
       "    .dataframe thead th {\n",
       "        text-align: right;\n",
       "    }\n",
       "</style>\n",
       "<table border=\"1\" class=\"dataframe\">\n",
       "  <thead>\n",
       "    <tr style=\"text-align: right;\">\n",
       "      <th></th>\n",
       "      <th>year</th>\n",
       "      <th>type</th>\n",
       "      <th>price</th>\n",
       "      <th>cumsum</th>\n",
       "    </tr>\n",
       "  </thead>\n",
       "  <tbody>\n",
       "    <tr>\n",
       "      <th>0</th>\n",
       "      <td>2010</td>\n",
       "      <td>일반숙박시설</td>\n",
       "      <td>336</td>\n",
       "      <td>336</td>\n",
       "    </tr>\n",
       "    <tr>\n",
       "      <th>1</th>\n",
       "      <td>2011</td>\n",
       "      <td>일반숙박시설</td>\n",
       "      <td>350</td>\n",
       "      <td>686</td>\n",
       "    </tr>\n",
       "    <tr>\n",
       "      <th>2</th>\n",
       "      <td>2012</td>\n",
       "      <td>일반숙박시설</td>\n",
       "      <td>404</td>\n",
       "      <td>1090</td>\n",
       "    </tr>\n",
       "    <tr>\n",
       "      <th>3</th>\n",
       "      <td>2013</td>\n",
       "      <td>일반숙박시설</td>\n",
       "      <td>450</td>\n",
       "      <td>1540</td>\n",
       "    </tr>\n",
       "    <tr>\n",
       "      <th>4</th>\n",
       "      <td>2014</td>\n",
       "      <td>일반숙박시설</td>\n",
       "      <td>539</td>\n",
       "      <td>2079</td>\n",
       "    </tr>\n",
       "    <tr>\n",
       "      <th>5</th>\n",
       "      <td>2015</td>\n",
       "      <td>일반숙박시설</td>\n",
       "      <td>550</td>\n",
       "      <td>2629</td>\n",
       "    </tr>\n",
       "    <tr>\n",
       "      <th>6</th>\n",
       "      <td>2016</td>\n",
       "      <td>일반숙박시설</td>\n",
       "      <td>485</td>\n",
       "      <td>3114</td>\n",
       "    </tr>\n",
       "    <tr>\n",
       "      <th>7</th>\n",
       "      <td>2017</td>\n",
       "      <td>일반숙박시설</td>\n",
       "      <td>571</td>\n",
       "      <td>3685</td>\n",
       "    </tr>\n",
       "    <tr>\n",
       "      <th>8</th>\n",
       "      <td>2018</td>\n",
       "      <td>일반숙박시설</td>\n",
       "      <td>447</td>\n",
       "      <td>4132</td>\n",
       "    </tr>\n",
       "    <tr>\n",
       "      <th>9</th>\n",
       "      <td>2019</td>\n",
       "      <td>일반숙박시설</td>\n",
       "      <td>365</td>\n",
       "      <td>4497</td>\n",
       "    </tr>\n",
       "    <tr>\n",
       "      <th>10</th>\n",
       "      <td>2020</td>\n",
       "      <td>일반숙박시설</td>\n",
       "      <td>320</td>\n",
       "      <td>4817</td>\n",
       "    </tr>\n",
       "    <tr>\n",
       "      <th>11</th>\n",
       "      <td>2021</td>\n",
       "      <td>일반숙박시설</td>\n",
       "      <td>345</td>\n",
       "      <td>5162</td>\n",
       "    </tr>\n",
       "    <tr>\n",
       "      <th>12</th>\n",
       "      <td>2010</td>\n",
       "      <td>생활형숙박시설</td>\n",
       "      <td>88</td>\n",
       "      <td>88</td>\n",
       "    </tr>\n",
       "    <tr>\n",
       "      <th>13</th>\n",
       "      <td>2011</td>\n",
       "      <td>생활형숙박시설</td>\n",
       "      <td>65</td>\n",
       "      <td>153</td>\n",
       "    </tr>\n",
       "    <tr>\n",
       "      <th>14</th>\n",
       "      <td>2012</td>\n",
       "      <td>생활형숙박시설</td>\n",
       "      <td>242</td>\n",
       "      <td>395</td>\n",
       "    </tr>\n",
       "    <tr>\n",
       "      <th>15</th>\n",
       "      <td>2013</td>\n",
       "      <td>생활형숙박시설</td>\n",
       "      <td>180</td>\n",
       "      <td>575</td>\n",
       "    </tr>\n",
       "    <tr>\n",
       "      <th>16</th>\n",
       "      <td>2014</td>\n",
       "      <td>생활형숙박시설</td>\n",
       "      <td>228</td>\n",
       "      <td>803</td>\n",
       "    </tr>\n",
       "    <tr>\n",
       "      <th>17</th>\n",
       "      <td>2015</td>\n",
       "      <td>생활형숙박시설</td>\n",
       "      <td>261</td>\n",
       "      <td>1064</td>\n",
       "    </tr>\n",
       "    <tr>\n",
       "      <th>18</th>\n",
       "      <td>2016</td>\n",
       "      <td>생활형숙박시설</td>\n",
       "      <td>350</td>\n",
       "      <td>1414</td>\n",
       "    </tr>\n",
       "    <tr>\n",
       "      <th>19</th>\n",
       "      <td>2017</td>\n",
       "      <td>생활형숙박시설</td>\n",
       "      <td>373</td>\n",
       "      <td>1787</td>\n",
       "    </tr>\n",
       "    <tr>\n",
       "      <th>20</th>\n",
       "      <td>2018</td>\n",
       "      <td>생활형숙박시설</td>\n",
       "      <td>473</td>\n",
       "      <td>2260</td>\n",
       "    </tr>\n",
       "    <tr>\n",
       "      <th>21</th>\n",
       "      <td>2019</td>\n",
       "      <td>생활형숙박시설</td>\n",
       "      <td>419</td>\n",
       "      <td>2679</td>\n",
       "    </tr>\n",
       "    <tr>\n",
       "      <th>22</th>\n",
       "      <td>2020</td>\n",
       "      <td>생활형숙박시설</td>\n",
       "      <td>446</td>\n",
       "      <td>3125</td>\n",
       "    </tr>\n",
       "    <tr>\n",
       "      <th>23</th>\n",
       "      <td>2021</td>\n",
       "      <td>생활형숙박시설</td>\n",
       "      <td>626</td>\n",
       "      <td>3751</td>\n",
       "    </tr>\n",
       "  </tbody>\n",
       "</table>\n",
       "</div>"
      ],
      "text/plain": [
       "    year     type  price  cumsum\n",
       "0   2010   일반숙박시설    336     336\n",
       "1   2011   일반숙박시설    350     686\n",
       "2   2012   일반숙박시설    404    1090\n",
       "3   2013   일반숙박시설    450    1540\n",
       "4   2014   일반숙박시설    539    2079\n",
       "5   2015   일반숙박시설    550    2629\n",
       "6   2016   일반숙박시설    485    3114\n",
       "7   2017   일반숙박시설    571    3685\n",
       "8   2018   일반숙박시설    447    4132\n",
       "9   2019   일반숙박시설    365    4497\n",
       "10  2020   일반숙박시설    320    4817\n",
       "11  2021   일반숙박시설    345    5162\n",
       "12  2010  생활형숙박시설     88      88\n",
       "13  2011  생활형숙박시설     65     153\n",
       "14  2012  생활형숙박시설    242     395\n",
       "15  2013  생활형숙박시설    180     575\n",
       "16  2014  생활형숙박시설    228     803\n",
       "17  2015  생활형숙박시설    261    1064\n",
       "18  2016  생활형숙박시설    350    1414\n",
       "19  2017  생활형숙박시설    373    1787\n",
       "20  2018  생활형숙박시설    473    2260\n",
       "21  2019  생활형숙박시설    419    2679\n",
       "22  2020  생활형숙박시설    446    3125\n",
       "23  2021  생활형숙박시설    626    3751"
      ]
     },
     "execution_count": 9,
     "metadata": {},
     "output_type": "execute_result"
    }
   ],
   "source": [
    "df_count = pd.DataFrame({'year':year_list, 'type':type_list, 'price':count_list, 'cumsum':cumsum_list})\n",
    "df_count"
   ]
  },
  {
   "cell_type": "code",
   "execution_count": 10,
   "metadata": {},
   "outputs": [],
   "source": [
    "x = np.arange(12)\n",
    "y_normal= list(after2010_normal.groupby('year')['type'].count().cumsum())\n",
    "y_residence = list(after2010_residence.groupby('year')['type'].count().cumsum())\n",
    "lst_normal = pd.DataFrame({'x':x, 'y':y_normal})\n",
    "lst_residence = pd.DataFrame({'x':x, 'y':y_residence})"
   ]
  },
  {
   "cell_type": "markdown",
   "metadata": {},
   "source": [
    "- Regression Fitting (Prediction)"
   ]
  },
  {
   "cell_type": "code",
   "execution_count": 11,
   "metadata": {},
   "outputs": [
    {
     "name": "stderr",
     "output_type": "stream",
     "text": [
      "C:\\Users\\zyunhyeok\\anaconda3\\envs\\dl\\lib\\site-packages\\scipy\\stats\\stats.py:1541: UserWarning: kurtosistest only valid for n>=20 ... continuing anyway, n=12\n",
      "  warnings.warn(\"kurtosistest only valid for n>=20 ... continuing \"\n"
     ]
    },
    {
     "data": {
      "text/html": [
       "<table class=\"simpletable\">\n",
       "<caption>OLS Regression Results</caption>\n",
       "<tr>\n",
       "  <th>Dep. Variable:</th>        <td>y_normal</td>     <th>  R-squared:         </th> <td>   0.996</td>\n",
       "</tr>\n",
       "<tr>\n",
       "  <th>Model:</th>                   <td>OLS</td>       <th>  Adj. R-squared:    </th> <td>   0.995</td>\n",
       "</tr>\n",
       "<tr>\n",
       "  <th>Method:</th>             <td>Least Squares</td>  <th>  F-statistic:       </th> <td>   1190.</td>\n",
       "</tr>\n",
       "<tr>\n",
       "  <th>Date:</th>             <td>Wed, 16 Feb 2022</td> <th>  Prob (F-statistic):</th> <td>1.24e-11</td>\n",
       "</tr>\n",
       "<tr>\n",
       "  <th>Time:</th>                 <td>16:34:20</td>     <th>  Log-Likelihood:    </th> <td> -72.085</td>\n",
       "</tr>\n",
       "<tr>\n",
       "  <th>No. Observations:</th>      <td>    12</td>      <th>  AIC:               </th> <td>   150.2</td>\n",
       "</tr>\n",
       "<tr>\n",
       "  <th>Df Residuals:</th>          <td>     9</td>      <th>  BIC:               </th> <td>   151.6</td>\n",
       "</tr>\n",
       "<tr>\n",
       "  <th>Df Model:</th>              <td>     2</td>      <th>                     </th>     <td> </td>   \n",
       "</tr>\n",
       "<tr>\n",
       "  <th>Covariance Type:</th>      <td>nonrobust</td>    <th>                     </th>     <td> </td>   \n",
       "</tr>\n",
       "</table>\n",
       "<table class=\"simpletable\">\n",
       "<tr>\n",
       "        <td></td>          <th>coef</th>     <th>std err</th>      <th>t</th>      <th>P>|t|</th>  <th>[0.025</th>    <th>0.975]</th>  \n",
       "</tr>\n",
       "<tr>\n",
       "  <th>Intercept</th>    <td>  181.0577</td> <td>   83.940</td> <td>    2.157</td> <td> 0.059</td> <td>   -8.828</td> <td>  370.943</td>\n",
       "</tr>\n",
       "<tr>\n",
       "  <th>x</th>            <td>  515.1451</td> <td>   35.476</td> <td>   14.521</td> <td> 0.000</td> <td>  434.893</td> <td>  595.397</td>\n",
       "</tr>\n",
       "<tr>\n",
       "  <th>np.square(x)</th> <td>   -4.7535</td> <td>    3.107</td> <td>   -1.530</td> <td> 0.160</td> <td>  -11.783</td> <td>    2.276</td>\n",
       "</tr>\n",
       "</table>\n",
       "<table class=\"simpletable\">\n",
       "<tr>\n",
       "  <th>Omnibus:</th>       <td> 1.722</td> <th>  Durbin-Watson:     </th> <td>   0.700</td>\n",
       "</tr>\n",
       "<tr>\n",
       "  <th>Prob(Omnibus):</th> <td> 0.423</td> <th>  Jarque-Bera (JB):  </th> <td>   0.890</td>\n",
       "</tr>\n",
       "<tr>\n",
       "  <th>Skew:</th>          <td> 0.222</td> <th>  Prob(JB):          </th> <td>   0.641</td>\n",
       "</tr>\n",
       "<tr>\n",
       "  <th>Kurtosis:</th>      <td> 1.742</td> <th>  Cond. No.          </th> <td>    158.</td>\n",
       "</tr>\n",
       "</table><br/><br/>Notes:<br/>[1] Standard Errors assume that the covariance matrix of the errors is correctly specified."
      ],
      "text/plain": [
       "<class 'statsmodels.iolib.summary.Summary'>\n",
       "\"\"\"\n",
       "                            OLS Regression Results                            \n",
       "==============================================================================\n",
       "Dep. Variable:               y_normal   R-squared:                       0.996\n",
       "Model:                            OLS   Adj. R-squared:                  0.995\n",
       "Method:                 Least Squares   F-statistic:                     1190.\n",
       "Date:                Wed, 16 Feb 2022   Prob (F-statistic):           1.24e-11\n",
       "Time:                        16:34:20   Log-Likelihood:                -72.085\n",
       "No. Observations:                  12   AIC:                             150.2\n",
       "Df Residuals:                       9   BIC:                             151.6\n",
       "Df Model:                           2                                         \n",
       "Covariance Type:            nonrobust                                         \n",
       "================================================================================\n",
       "                   coef    std err          t      P>|t|      [0.025      0.975]\n",
       "--------------------------------------------------------------------------------\n",
       "Intercept      181.0577     83.940      2.157      0.059      -8.828     370.943\n",
       "x              515.1451     35.476     14.521      0.000     434.893     595.397\n",
       "np.square(x)    -4.7535      3.107     -1.530      0.160     -11.783       2.276\n",
       "==============================================================================\n",
       "Omnibus:                        1.722   Durbin-Watson:                   0.700\n",
       "Prob(Omnibus):                  0.423   Jarque-Bera (JB):                0.890\n",
       "Skew:                           0.222   Prob(JB):                        0.641\n",
       "Kurtosis:                       1.742   Cond. No.                         158.\n",
       "==============================================================================\n",
       "\n",
       "Notes:\n",
       "[1] Standard Errors assume that the covariance matrix of the errors is correctly specified.\n",
       "\"\"\""
      ]
     },
     "execution_count": 11,
     "metadata": {},
     "output_type": "execute_result"
    }
   ],
   "source": [
    "# 일반숙박시설 업체수 2차 회귀식 적합\n",
    "\n",
    "model_normal = smf.ols(\"y_normal~x+np.square(x)\", data=lst_normal).fit()\n",
    "model_normal.summary()"
   ]
  },
  {
   "cell_type": "code",
   "execution_count": 12,
   "metadata": {},
   "outputs": [
    {
     "name": "stderr",
     "output_type": "stream",
     "text": [
      "C:\\Users\\zyunhyeok\\anaconda3\\envs\\dl\\lib\\site-packages\\scipy\\stats\\stats.py:1541: UserWarning: kurtosistest only valid for n>=20 ... continuing anyway, n=12\n",
      "  warnings.warn(\"kurtosistest only valid for n>=20 ... continuing \"\n"
     ]
    },
    {
     "data": {
      "text/html": [
       "<table class=\"simpletable\">\n",
       "<caption>OLS Regression Results</caption>\n",
       "<tr>\n",
       "  <th>Dep. Variable:</th>       <td>y_residence</td>   <th>  R-squared:         </th> <td>   0.999</td>\n",
       "</tr>\n",
       "<tr>\n",
       "  <th>Model:</th>                   <td>OLS</td>       <th>  Adj. R-squared:    </th> <td>   0.999</td>\n",
       "</tr>\n",
       "<tr>\n",
       "  <th>Method:</th>             <td>Least Squares</td>  <th>  F-statistic:       </th> <td>   7101.</td>\n",
       "</tr>\n",
       "<tr>\n",
       "  <th>Date:</th>             <td>Wed, 16 Feb 2022</td> <th>  Prob (F-statistic):</th> <td>4.05e-15</td>\n",
       "</tr>\n",
       "<tr>\n",
       "  <th>Time:</th>                 <td>16:34:20</td>     <th>  Log-Likelihood:    </th> <td> -57.580</td>\n",
       "</tr>\n",
       "<tr>\n",
       "  <th>No. Observations:</th>      <td>    12</td>      <th>  AIC:               </th> <td>   121.2</td>\n",
       "</tr>\n",
       "<tr>\n",
       "  <th>Df Residuals:</th>          <td>     9</td>      <th>  BIC:               </th> <td>   122.6</td>\n",
       "</tr>\n",
       "<tr>\n",
       "  <th>Df Model:</th>              <td>     2</td>      <th>                     </th>     <td> </td>   \n",
       "</tr>\n",
       "<tr>\n",
       "  <th>Covariance Type:</th>      <td>nonrobust</td>    <th>                     </th>     <td> </td>   \n",
       "</tr>\n",
       "</table>\n",
       "<table class=\"simpletable\">\n",
       "<tr>\n",
       "        <td></td>          <th>coef</th>     <th>std err</th>      <th>t</th>      <th>P>|t|</th>  <th>[0.025</th>    <th>0.975]</th>  \n",
       "</tr>\n",
       "<tr>\n",
       "  <th>Intercept</th>    <td>   79.9890</td> <td>   25.060</td> <td>    3.192</td> <td> 0.011</td> <td>   23.299</td> <td>  136.679</td>\n",
       "</tr>\n",
       "<tr>\n",
       "  <th>x</th>            <td>   94.6828</td> <td>   10.591</td> <td>    8.940</td> <td> 0.000</td> <td>   70.723</td> <td>  118.642</td>\n",
       "</tr>\n",
       "<tr>\n",
       "  <th>np.square(x)</th> <td>   21.5120</td> <td>    0.928</td> <td>   23.188</td> <td> 0.000</td> <td>   19.413</td> <td>   23.611</td>\n",
       "</tr>\n",
       "</table>\n",
       "<table class=\"simpletable\">\n",
       "<tr>\n",
       "  <th>Omnibus:</th>       <td> 0.303</td> <th>  Durbin-Watson:     </th> <td>   2.495</td>\n",
       "</tr>\n",
       "<tr>\n",
       "  <th>Prob(Omnibus):</th> <td> 0.859</td> <th>  Jarque-Bera (JB):  </th> <td>   0.442</td>\n",
       "</tr>\n",
       "<tr>\n",
       "  <th>Skew:</th>          <td>-0.226</td> <th>  Prob(JB):          </th> <td>   0.802</td>\n",
       "</tr>\n",
       "<tr>\n",
       "  <th>Kurtosis:</th>      <td> 2.176</td> <th>  Cond. No.          </th> <td>    158.</td>\n",
       "</tr>\n",
       "</table><br/><br/>Notes:<br/>[1] Standard Errors assume that the covariance matrix of the errors is correctly specified."
      ],
      "text/plain": [
       "<class 'statsmodels.iolib.summary.Summary'>\n",
       "\"\"\"\n",
       "                            OLS Regression Results                            \n",
       "==============================================================================\n",
       "Dep. Variable:            y_residence   R-squared:                       0.999\n",
       "Model:                            OLS   Adj. R-squared:                  0.999\n",
       "Method:                 Least Squares   F-statistic:                     7101.\n",
       "Date:                Wed, 16 Feb 2022   Prob (F-statistic):           4.05e-15\n",
       "Time:                        16:34:20   Log-Likelihood:                -57.580\n",
       "No. Observations:                  12   AIC:                             121.2\n",
       "Df Residuals:                       9   BIC:                             122.6\n",
       "Df Model:                           2                                         \n",
       "Covariance Type:            nonrobust                                         \n",
       "================================================================================\n",
       "                   coef    std err          t      P>|t|      [0.025      0.975]\n",
       "--------------------------------------------------------------------------------\n",
       "Intercept       79.9890     25.060      3.192      0.011      23.299     136.679\n",
       "x               94.6828     10.591      8.940      0.000      70.723     118.642\n",
       "np.square(x)    21.5120      0.928     23.188      0.000      19.413      23.611\n",
       "==============================================================================\n",
       "Omnibus:                        0.303   Durbin-Watson:                   2.495\n",
       "Prob(Omnibus):                  0.859   Jarque-Bera (JB):                0.442\n",
       "Skew:                          -0.226   Prob(JB):                        0.802\n",
       "Kurtosis:                       2.176   Cond. No.                         158.\n",
       "==============================================================================\n",
       "\n",
       "Notes:\n",
       "[1] Standard Errors assume that the covariance matrix of the errors is correctly specified.\n",
       "\"\"\""
      ]
     },
     "execution_count": 12,
     "metadata": {},
     "output_type": "execute_result"
    }
   ],
   "source": [
    "# 생활형숙박시설 업체수 2차 회귀식 적합\n",
    "\n",
    "model_residence = smf.ols(\"y_residence~x+np.square(x)\", data=lst_residence).fit()\n",
    "model_residence.summary()"
   ]
  },
  {
   "cell_type": "code",
   "execution_count": 13,
   "metadata": {},
   "outputs": [],
   "source": [
    "# 회귀식을 바탕으로 하여 예측값 계산\n",
    "\n",
    "def quadratic_normal(x):\n",
    "    return model_normal.params['np.square(x)']*x**2 + model_normal.params['x']*x + model_normal.params['Intercept']\n",
    "def quadratic_residence(x):\n",
    "    return model_residence.params['np.square(x)']*x**2 + model_residence.params['x']*x + model_residence.params['Intercept']"
   ]
  },
  {
   "cell_type": "code",
   "execution_count": 14,
   "metadata": {},
   "outputs": [],
   "source": [
    "# 2025년까지의 예측값 추가\n",
    "\n",
    "x = np.arange(2010,2026)\n",
    "\n",
    "for i in range(12,16):\n",
    "    y_normal.append(round(quadratic_normal(i)))\n",
    "    y_residence.append(round(quadratic_residence(i)))"
   ]
  },
  {
   "cell_type": "code",
   "execution_count": 15,
   "metadata": {},
   "outputs": [],
   "source": [
    "lst_normal = pd.DataFrame({'x':x, 'y':y_normal})\n",
    "lst_residence = pd.DataFrame({'x':x, 'y':y_residence})"
   ]
  },
  {
   "cell_type": "code",
   "execution_count": 16,
   "metadata": {},
   "outputs": [],
   "source": [
    "count_normal = list(after2010_normal.groupby('year')['type'].count())\n",
    "count_residence = list(after2010_residence.groupby('year')['type'].count())"
   ]
  },
  {
   "cell_type": "code",
   "execution_count": 17,
   "metadata": {},
   "outputs": [],
   "source": [
    "for i in range(11,15):\n",
    "    count_normal.append(quadratic_normal(i+1) - y_normal[i])\n",
    "    count_residence.append(quadratic_residence(i+1) - y_residence[i])"
   ]
  },
  {
   "cell_type": "code",
   "execution_count": 18,
   "metadata": {},
   "outputs": [],
   "source": [
    "year_list = list(np.arange(2010,2026,1))*2\n",
    "type_list = ['일반숙박시설']*16+['생활형숙박시설']*16\n",
    "count_list = list(count_normal) + list(count_residence)\n",
    "cumsum_list = y_normal+y_residence"
   ]
  },
  {
   "cell_type": "code",
   "execution_count": 19,
   "metadata": {},
   "outputs": [],
   "source": [
    "df_pred = pd.DataFrame({'year':year_list, 'type':type_list, 'count':count_list, 'cumsum':cumsum_list})"
   ]
  },
  {
   "cell_type": "code",
   "execution_count": 20,
   "metadata": {},
   "outputs": [
    {
     "data": {
      "text/html": [
       "<div>\n",
       "<style scoped>\n",
       "    .dataframe tbody tr th:only-of-type {\n",
       "        vertical-align: middle;\n",
       "    }\n",
       "\n",
       "    .dataframe tbody tr th {\n",
       "        vertical-align: top;\n",
       "    }\n",
       "\n",
       "    .dataframe thead th {\n",
       "        text-align: right;\n",
       "    }\n",
       "</style>\n",
       "<table border=\"1\" class=\"dataframe\">\n",
       "  <thead>\n",
       "    <tr style=\"text-align: right;\">\n",
       "      <th></th>\n",
       "      <th>year</th>\n",
       "      <th>type</th>\n",
       "      <th>count</th>\n",
       "      <th>cumsum</th>\n",
       "    </tr>\n",
       "  </thead>\n",
       "  <tbody>\n",
       "    <tr>\n",
       "      <th>0</th>\n",
       "      <td>2010</td>\n",
       "      <td>일반숙박시설</td>\n",
       "      <td>336.000000</td>\n",
       "      <td>336</td>\n",
       "    </tr>\n",
       "    <tr>\n",
       "      <th>1</th>\n",
       "      <td>2011</td>\n",
       "      <td>일반숙박시설</td>\n",
       "      <td>350.000000</td>\n",
       "      <td>686</td>\n",
       "    </tr>\n",
       "    <tr>\n",
       "      <th>2</th>\n",
       "      <td>2012</td>\n",
       "      <td>일반숙박시설</td>\n",
       "      <td>404.000000</td>\n",
       "      <td>1090</td>\n",
       "    </tr>\n",
       "    <tr>\n",
       "      <th>3</th>\n",
       "      <td>2013</td>\n",
       "      <td>일반숙박시설</td>\n",
       "      <td>450.000000</td>\n",
       "      <td>1540</td>\n",
       "    </tr>\n",
       "    <tr>\n",
       "      <th>4</th>\n",
       "      <td>2014</td>\n",
       "      <td>일반숙박시설</td>\n",
       "      <td>539.000000</td>\n",
       "      <td>2079</td>\n",
       "    </tr>\n",
       "    <tr>\n",
       "      <th>5</th>\n",
       "      <td>2015</td>\n",
       "      <td>일반숙박시설</td>\n",
       "      <td>550.000000</td>\n",
       "      <td>2629</td>\n",
       "    </tr>\n",
       "    <tr>\n",
       "      <th>6</th>\n",
       "      <td>2016</td>\n",
       "      <td>일반숙박시설</td>\n",
       "      <td>485.000000</td>\n",
       "      <td>3114</td>\n",
       "    </tr>\n",
       "    <tr>\n",
       "      <th>7</th>\n",
       "      <td>2017</td>\n",
       "      <td>일반숙박시설</td>\n",
       "      <td>571.000000</td>\n",
       "      <td>3685</td>\n",
       "    </tr>\n",
       "    <tr>\n",
       "      <th>8</th>\n",
       "      <td>2018</td>\n",
       "      <td>일반숙박시설</td>\n",
       "      <td>447.000000</td>\n",
       "      <td>4132</td>\n",
       "    </tr>\n",
       "    <tr>\n",
       "      <th>9</th>\n",
       "      <td>2019</td>\n",
       "      <td>일반숙박시설</td>\n",
       "      <td>365.000000</td>\n",
       "      <td>4497</td>\n",
       "    </tr>\n",
       "    <tr>\n",
       "      <th>10</th>\n",
       "      <td>2020</td>\n",
       "      <td>일반숙박시설</td>\n",
       "      <td>320.000000</td>\n",
       "      <td>4817</td>\n",
       "    </tr>\n",
       "    <tr>\n",
       "      <th>11</th>\n",
       "      <td>2021</td>\n",
       "      <td>일반숙박시설</td>\n",
       "      <td>345.000000</td>\n",
       "      <td>5162</td>\n",
       "    </tr>\n",
       "    <tr>\n",
       "      <th>12</th>\n",
       "      <td>2022</td>\n",
       "      <td>일반숙박시설</td>\n",
       "      <td>516.295455</td>\n",
       "      <td>5678</td>\n",
       "    </tr>\n",
       "    <tr>\n",
       "      <th>13</th>\n",
       "      <td>2023</td>\n",
       "      <td>일반숙박시설</td>\n",
       "      <td>396.603147</td>\n",
       "      <td>6075</td>\n",
       "    </tr>\n",
       "    <tr>\n",
       "      <th>14</th>\n",
       "      <td>2024</td>\n",
       "      <td>일반숙박시설</td>\n",
       "      <td>386.403846</td>\n",
       "      <td>6461</td>\n",
       "    </tr>\n",
       "    <tr>\n",
       "      <th>15</th>\n",
       "      <td>2025</td>\n",
       "      <td>일반숙박시설</td>\n",
       "      <td>377.697552</td>\n",
       "      <td>6839</td>\n",
       "    </tr>\n",
       "    <tr>\n",
       "      <th>16</th>\n",
       "      <td>2010</td>\n",
       "      <td>생활형숙박시설</td>\n",
       "      <td>88.000000</td>\n",
       "      <td>88</td>\n",
       "    </tr>\n",
       "    <tr>\n",
       "      <th>17</th>\n",
       "      <td>2011</td>\n",
       "      <td>생활형숙박시설</td>\n",
       "      <td>65.000000</td>\n",
       "      <td>153</td>\n",
       "    </tr>\n",
       "    <tr>\n",
       "      <th>18</th>\n",
       "      <td>2012</td>\n",
       "      <td>생활형숙박시설</td>\n",
       "      <td>242.000000</td>\n",
       "      <td>395</td>\n",
       "    </tr>\n",
       "    <tr>\n",
       "      <th>19</th>\n",
       "      <td>2013</td>\n",
       "      <td>생활형숙박시설</td>\n",
       "      <td>180.000000</td>\n",
       "      <td>575</td>\n",
       "    </tr>\n",
       "    <tr>\n",
       "      <th>20</th>\n",
       "      <td>2014</td>\n",
       "      <td>생활형숙박시설</td>\n",
       "      <td>228.000000</td>\n",
       "      <td>803</td>\n",
       "    </tr>\n",
       "    <tr>\n",
       "      <th>21</th>\n",
       "      <td>2015</td>\n",
       "      <td>생활형숙박시설</td>\n",
       "      <td>261.000000</td>\n",
       "      <td>1064</td>\n",
       "    </tr>\n",
       "    <tr>\n",
       "      <th>22</th>\n",
       "      <td>2016</td>\n",
       "      <td>생활형숙박시설</td>\n",
       "      <td>350.000000</td>\n",
       "      <td>1414</td>\n",
       "    </tr>\n",
       "    <tr>\n",
       "      <th>23</th>\n",
       "      <td>2017</td>\n",
       "      <td>생활형숙박시설</td>\n",
       "      <td>373.000000</td>\n",
       "      <td>1787</td>\n",
       "    </tr>\n",
       "    <tr>\n",
       "      <th>24</th>\n",
       "      <td>2018</td>\n",
       "      <td>생활형숙박시설</td>\n",
       "      <td>473.000000</td>\n",
       "      <td>2260</td>\n",
       "    </tr>\n",
       "    <tr>\n",
       "      <th>25</th>\n",
       "      <td>2019</td>\n",
       "      <td>생활형숙박시설</td>\n",
       "      <td>419.000000</td>\n",
       "      <td>2679</td>\n",
       "    </tr>\n",
       "    <tr>\n",
       "      <th>26</th>\n",
       "      <td>2020</td>\n",
       "      <td>생활형숙박시설</td>\n",
       "      <td>446.000000</td>\n",
       "      <td>3125</td>\n",
       "    </tr>\n",
       "    <tr>\n",
       "      <th>27</th>\n",
       "      <td>2021</td>\n",
       "      <td>생활형숙박시설</td>\n",
       "      <td>626.000000</td>\n",
       "      <td>3751</td>\n",
       "    </tr>\n",
       "    <tr>\n",
       "      <th>28</th>\n",
       "      <td>2022</td>\n",
       "      <td>생활형숙박시설</td>\n",
       "      <td>562.909091</td>\n",
       "      <td>4314</td>\n",
       "    </tr>\n",
       "    <tr>\n",
       "      <th>29</th>\n",
       "      <td>2023</td>\n",
       "      <td>생활형숙박시설</td>\n",
       "      <td>632.391608</td>\n",
       "      <td>4946</td>\n",
       "    </tr>\n",
       "    <tr>\n",
       "      <th>30</th>\n",
       "      <td>2024</td>\n",
       "      <td>생활형숙박시설</td>\n",
       "      <td>675.898102</td>\n",
       "      <td>5622</td>\n",
       "    </tr>\n",
       "    <tr>\n",
       "      <th>31</th>\n",
       "      <td>2025</td>\n",
       "      <td>생활형숙박시설</td>\n",
       "      <td>718.428571</td>\n",
       "      <td>6340</td>\n",
       "    </tr>\n",
       "  </tbody>\n",
       "</table>\n",
       "</div>"
      ],
      "text/plain": [
       "    year     type       count  cumsum\n",
       "0   2010   일반숙박시설  336.000000     336\n",
       "1   2011   일반숙박시설  350.000000     686\n",
       "2   2012   일반숙박시설  404.000000    1090\n",
       "3   2013   일반숙박시설  450.000000    1540\n",
       "4   2014   일반숙박시설  539.000000    2079\n",
       "5   2015   일반숙박시설  550.000000    2629\n",
       "6   2016   일반숙박시설  485.000000    3114\n",
       "7   2017   일반숙박시설  571.000000    3685\n",
       "8   2018   일반숙박시설  447.000000    4132\n",
       "9   2019   일반숙박시설  365.000000    4497\n",
       "10  2020   일반숙박시설  320.000000    4817\n",
       "11  2021   일반숙박시설  345.000000    5162\n",
       "12  2022   일반숙박시설  516.295455    5678\n",
       "13  2023   일반숙박시설  396.603147    6075\n",
       "14  2024   일반숙박시설  386.403846    6461\n",
       "15  2025   일반숙박시설  377.697552    6839\n",
       "16  2010  생활형숙박시설   88.000000      88\n",
       "17  2011  생활형숙박시설   65.000000     153\n",
       "18  2012  생활형숙박시설  242.000000     395\n",
       "19  2013  생활형숙박시설  180.000000     575\n",
       "20  2014  생활형숙박시설  228.000000     803\n",
       "21  2015  생활형숙박시설  261.000000    1064\n",
       "22  2016  생활형숙박시설  350.000000    1414\n",
       "23  2017  생활형숙박시설  373.000000    1787\n",
       "24  2018  생활형숙박시설  473.000000    2260\n",
       "25  2019  생활형숙박시설  419.000000    2679\n",
       "26  2020  생활형숙박시설  446.000000    3125\n",
       "27  2021  생활형숙박시설  626.000000    3751\n",
       "28  2022  생활형숙박시설  562.909091    4314\n",
       "29  2023  생활형숙박시설  632.391608    4946\n",
       "30  2024  생활형숙박시설  675.898102    5622\n",
       "31  2025  생활형숙박시설  718.428571    6340"
      ]
     },
     "execution_count": 20,
     "metadata": {},
     "output_type": "execute_result"
    }
   ],
   "source": [
    "df_pred"
   ]
  },
  {
   "cell_type": "code",
   "execution_count": 21,
   "metadata": {},
   "outputs": [],
   "source": [
    "df_ratio = pd.DataFrame({'year':np.arange(2010,2022), 'value': list(after2010[after2010['type']==\"생활형숙박시설\"].groupby('year')[['name']].count()['name']/after2010.groupby('year')[['name']].count()['name'])})"
   ]
  },
  {
   "cell_type": "markdown",
   "metadata": {},
   "source": [
    "# Data Visualization"
   ]
  },
  {
   "cell_type": "code",
   "execution_count": 35,
   "metadata": {},
   "outputs": [
    {
     "data": {
      "image/png": "[encoded data removed]",
      "text/plain": [
       "<Figure size 2160x720 with 1 Axes>"
      ]
     },
     "metadata": {
      "needs_background": "light"
     },
     "output_type": "display_data"
    }
   ],
   "source": [
    "plt.figure(figsize=(30,10))\n",
    "sns.countplot(x='year', data=df_residence, palette='Set2', order = sorted(df_residence['year'].unique()))\n",
    "plt.title('연도별 생활형 숙박시설 증가현황', fontsize=30)\n",
    "plt.xlabel('연도', fontsize=20)\n",
    "plt.ylabel('생활형 숙박시설 갯수', fontsize=20)\n",
    "plt.xticks(rotation=90)\n",
    "plt.show()"
   ]
  },
  {
   "cell_type": "code",
   "execution_count": 36,
   "metadata": {},
   "outputs": [
    {
     "data": {
      "image/png": "[encoded data removed]",
      "text/plain": [
       "<Figure size 2160x720 with 1 Axes>"
      ]
     },
     "metadata": {
      "needs_background": "light"
     },
     "output_type": "display_data"
    }
   ],
   "source": [
    "plt.figure(figsize=(30,10))\n",
    "sns.countplot(x='year', data=df_normal, palette='Set2', order = sorted(df_normal['year'].unique()))\n",
    "plt.title('연도별 일반 숙박시설 증가 현황', fontsize=30)\n",
    "plt.xlabel('연도', fontsize=20)\n",
    "plt.ylabel('일반 숙박시설 갯수', fontsize=20)\n",
    "plt.xticks(rotation=90)\n",
    "plt.show()"
   ]
  },
  {
   "cell_type": "code",
   "execution_count": 37,
   "metadata": {},
   "outputs": [
    {
     "data": {
      "image/png": "[encoded data removed]",
      "text/plain": [
       "<Figure size 1080x576 with 1 Axes>"
      ]
     },
     "metadata": {
      "needs_background": "light"
     },
     "output_type": "display_data"
    }
   ],
   "source": [
    "plt.figure(figsize=(15,8))\n",
    "ax = sns.countplot(x='year', data=after2010, palette='Set2', hue=\"type\", dodge = True, order = sorted(after2010['year'].unique()))\n",
    "\n",
    "for p in ax.patches:\n",
    "    height = p.get_height()\n",
    "    ax.text(p.get_x() + p.get_width() / 2., height + 3, height, ha = 'center', size = 9)\n",
    "    \n",
    "plt.title('2010년~2021년 생활형숙박시설, 일반숙박시설 비교', fontsize=30)\n",
    "plt.xlabel('연도', fontsize=20)\n",
    "plt.ylabel('숙박시설 갯수', fontsize=20)\n",
    "# plt.xticks(rotation=90)\n",
    "plt.show()"
   ]
  },
  {
   "cell_type": "code",
   "execution_count": 22,
   "metadata": {},
   "outputs": [],
   "source": [
    "parameters = {'axes.labelsize': 25,\n",
    "          'axes.titlesize': 35,\n",
    "          'xtick.labelsize': 15,\n",
    "          'ytick.labelsize': 15}\n",
    "plt.rcParams.update(parameters)"
   ]
  },
  {
   "cell_type": "code",
   "execution_count": 23,
   "metadata": {},
   "outputs": [
    {
     "data": {
      "image/png": "[encoded data removed]",
      "text/plain": [
       "<Figure size 1080x576 with 1 Axes>"
      ]
     },
     "metadata": {
      "needs_background": "light"
     },
     "output_type": "display_data"
    }
   ],
   "source": [
    "plt.figure(figsize=(15,8))\n",
    "sns.barplot(data=df_pred, x=\"year\", y=\"count\", hue=\"type\", palette='Set2')\n",
    "\n",
    "plt.title('생활형숙박시설, 일반숙박시설 신규 업체수 향후예측', fontsize=25)\n",
    "plt.xlabel('연도', fontsize=20)\n",
    "plt.ylabel('업체수', fontsize=20)\n",
    "plt.legend(fontsize=20, loc = 'best')\n",
    "plt.show()"
   ]
  },
  {
   "cell_type": "code",
   "execution_count": 24,
   "metadata": {},
   "outputs": [
    {
     "data": {
      "image/png": "[encoded data removed]",
      "text/plain": [
       "<Figure size 1080x576 with 1 Axes>"
      ]
     },
     "metadata": {
      "needs_background": "light"
     },
     "output_type": "display_data"
    }
   ],
   "source": [
    "plt.figure(figsize=(15,8))\n",
    "sns.barplot(data=df_pred, x=\"year\", y=\"cumsum\", hue=\"type\", palette='Set2')\n",
    "\n",
    "plt.title('생활형숙박시설, 일반숙박시설 업체수 향후예측', fontsize=25)\n",
    "plt.xlabel('연도', fontsize=20)\n",
    "plt.ylabel('업체수', fontsize=20)\n",
    "plt.legend(fontsize=20, loc = 'best')\n",
    "plt.show()"
   ]
  },
  {
   "cell_type": "code",
   "execution_count": 25,
   "metadata": {},
   "outputs": [
    {
     "data": {
      "image/png": "[encoded data removed]",
      "text/plain": [
       "<Figure size 1440x720 with 1 Axes>"
      ]
     },
     "metadata": {
      "needs_background": "light"
     },
     "output_type": "display_data"
    }
   ],
   "source": [
    "plt.figure(figsize=(20,10))\n",
    "plt.plot(\"year\", \"value\", data=df_ratio, linewidth=5, color='grey')\n",
    "x = df_ratio['year']\n",
    "y = df_ratio['value']\n",
    "\n",
    "for i, v in enumerate(x):\n",
    "    plt.text(v, y[i], str(round(y[i]*100,2))+'%',                 # 좌표 (x축 = v, y축 = y[0]..y[1], 표시 = y[0]..y[1])\n",
    "             fontsize = 20, \n",
    "             color='black',\n",
    "             horizontalalignment='right',  # horizontalalignment (left, center, right)\n",
    "             verticalalignment='bottom')    # verticalalignment (top, center, bottom)\n",
    "\n",
    "plt.title('2010년~2021년 생활형숙박시설 비율', fontsize=30)\n",
    "plt.xlabel('연도', fontsize=20)\n",
    "plt.ylabel('생활형 숙박시설 비율', fontsize=20)\n",
    "plt.show()"
   ]
  },
  {
   "cell_type": "markdown",
   "metadata": {},
   "source": [
    "# Time-Series"
   ]
  },
  {
   "cell_type": "code",
   "execution_count": 76,
   "metadata": {},
   "outputs": [],
   "source": [
    "import pandas_datareader.data as pdr\n",
    "\n",
    "from sklearn.model_selection import train_test_split\n",
    "from sklearn.metrics import r2_score\n",
    "\n",
    "import statsmodels.api as sm\n",
    "from statsmodels.graphics.tsaplots import plot_acf, plot_pacf\n",
    "from statsmodels.tsa.arima.model import ARIMA\n",
    "from statsmodels.tsa.statespace.sarimax import SARIMAX\n",
    "from pmdarima.arima import auto_arima\n",
    "\n",
    "import itertools"
   ]
  },
  {
   "cell_type": "code",
   "execution_count": 77,
   "metadata": {},
   "outputs": [],
   "source": [
    "residence_ts = pd.DataFrame({'day': list(sorted(data_residence['인허가일자'].unique())), 'count': list(data_residence.groupby('인허가일자')['사업장명'].count())})"
   ]
  },
  {
   "cell_type": "code",
   "execution_count": 78,
   "metadata": {},
   "outputs": [],
   "source": [
    "residence_ts['day'] = residence_ts['day'].astype(str)\n",
    "residence_ts['day'] = pd.to_datetime(residence_ts['day'])"
   ]
  },
  {
   "cell_type": "code",
   "execution_count": 79,
   "metadata": {},
   "outputs": [
    {
     "data": {
      "text/html": [
       "<div>\n",
       "<style scoped>\n",
       "    .dataframe tbody tr th:only-of-type {\n",
       "        vertical-align: middle;\n",
       "    }\n",
       "\n",
       "    .dataframe tbody tr th {\n",
       "        vertical-align: top;\n",
       "    }\n",
       "\n",
       "    .dataframe thead th {\n",
       "        text-align: right;\n",
       "    }\n",
       "</style>\n",
       "<table border=\"1\" class=\"dataframe\">\n",
       "  <thead>\n",
       "    <tr style=\"text-align: right;\">\n",
       "      <th></th>\n",
       "      <th>count</th>\n",
       "    </tr>\n",
       "    <tr>\n",
       "      <th>day</th>\n",
       "      <th></th>\n",
       "    </tr>\n",
       "  </thead>\n",
       "  <tbody>\n",
       "    <tr>\n",
       "      <th>1970-01-01</th>\n",
       "      <td>2</td>\n",
       "    </tr>\n",
       "    <tr>\n",
       "      <th>1971-01-01</th>\n",
       "      <td>4</td>\n",
       "    </tr>\n",
       "    <tr>\n",
       "      <th>1972-01-01</th>\n",
       "      <td>2</td>\n",
       "    </tr>\n",
       "    <tr>\n",
       "      <th>1973-01-01</th>\n",
       "      <td>2</td>\n",
       "    </tr>\n",
       "    <tr>\n",
       "      <th>1974-01-01</th>\n",
       "      <td>6</td>\n",
       "    </tr>\n",
       "  </tbody>\n",
       "</table>\n",
       "</div>"
      ],
      "text/plain": [
       "            count\n",
       "day              \n",
       "1970-01-01      2\n",
       "1971-01-01      4\n",
       "1972-01-01      2\n",
       "1973-01-01      2\n",
       "1974-01-01      6"
      ]
     },
     "execution_count": 79,
     "metadata": {},
     "output_type": "execute_result"
    }
   ],
   "source": [
    "residence_ts.index = residence_ts['day']\n",
    "residence_ts.set_index('day', inplace=True)\n",
    "residence_ts.head()"
   ]
  },
  {
   "cell_type": "markdown",
   "metadata": {},
   "source": [
    "- data preprocessing"
   ]
  },
  {
   "cell_type": "code",
   "execution_count": 80,
   "metadata": {},
   "outputs": [
    {
     "data": {
      "image/png": "[encoded data removed]",
      "text/plain": [
       "<Figure size 432x288 with 1 Axes>"
      ]
     },
     "metadata": {
      "needs_background": "light"
     },
     "output_type": "display_data"
    }
   ],
   "source": [
    "fig = residence_ts.plot()"
   ]
  },
  {
   "cell_type": "code",
   "execution_count": 81,
   "metadata": {},
   "outputs": [
    {
     "name": "stderr",
     "output_type": "stream",
     "text": [
      "C:\\Users\\zyunhyeok\\anaconda3\\envs\\dl\\lib\\site-packages\\matplotlib\\backends\\backend_agg.py:240: RuntimeWarning: Glyph 8722 missing from current font.\n",
      "  font.set_text(s, 0.0, flags=flags)\n",
      "C:\\Users\\zyunhyeok\\anaconda3\\envs\\dl\\lib\\site-packages\\matplotlib\\backends\\backend_agg.py:203: RuntimeWarning: Glyph 8722 missing from current font.\n",
      "  font.set_text(s, 0, flags=flags)\n"
     ]
    },
    {
     "data": {
      "image/png": "[encoded data removed]",
      "text/plain": [
       "<Figure size 720x720 with 4 Axes>"
      ]
     },
     "metadata": {
      "needs_background": "light"
     },
     "output_type": "display_data"
    }
   ],
   "source": [
    "decomposition = sm.tsa.seasonal_decompose(residence_ts['count'], model = 'additive', period = 1)\n",
    "fig = decomposition.plot()\n",
    "fig.set_size_inches(10,10)\n",
    "plt.show()"
   ]
  },
  {
   "cell_type": "markdown",
   "metadata": {},
   "source": [
    "- identify model to be tentatively entertained"
   ]
  },
  {
   "cell_type": "code",
   "execution_count": 82,
   "metadata": {},
   "outputs": [],
   "source": [
    "train_data, test_data = train_test_split(residence_ts, test_size = 0.1, shuffle = False)"
   ]
  },
  {
   "cell_type": "code",
   "execution_count": 83,
   "metadata": {},
   "outputs": [
    {
     "name": "stderr",
     "output_type": "stream",
     "text": [
      "C:\\Users\\zyunhyeok\\anaconda3\\envs\\dl\\lib\\site-packages\\statsmodels\\graphics\\tsaplots.py:348: FutureWarning: The default method 'yw' can produce PACF values outside of the [-1,1] interval. After 0.13, the default will change tounadjusted Yule-Walker ('ywm'). You can use this method now by setting method='ywm'.\n",
      "  warnings.warn(\n",
      "C:\\Users\\zyunhyeok\\anaconda3\\envs\\dl\\lib\\site-packages\\matplotlib\\backends\\backend_agg.py:240: RuntimeWarning: Glyph 8722 missing from current font.\n",
      "  font.set_text(s, 0.0, flags=flags)\n",
      "C:\\Users\\zyunhyeok\\anaconda3\\envs\\dl\\lib\\site-packages\\matplotlib\\backends\\backend_agg.py:203: RuntimeWarning: Glyph 8722 missing from current font.\n",
      "  font.set_text(s, 0, flags=flags)\n"
     ]
    },
    {
     "data": {
      "image/png": "[encoded data removed]",
      "text/plain": [
       "<Figure size 720x360 with 2 Axes>"
      ]
     },
     "metadata": {
      "needs_background": "light"
     },
     "output_type": "display_data"
    }
   ],
   "source": [
    "fig, ax = plt.subplots(1,2, figsize=(10,5))\n",
    "fig.suptitle('Raw Data')\n",
    "sm.graphics.tsa.plot_acf(train_data.values.squeeze(), lags=10, ax=ax[0])\n",
    "sm.graphics.tsa.plot_pacf(train_data.values.squeeze(), lags=10, ax=ax[1])\n",
    "plt.show()"
   ]
  },
  {
   "cell_type": "code",
   "execution_count": 84,
   "metadata": {},
   "outputs": [
    {
     "name": "stdout",
     "output_type": "stream",
     "text": [
      "########## RAW DATA ##########\n",
      "            count\n",
      "day              \n",
      "1970-01-01      2\n",
      "1971-01-01      4\n",
      "1972-01-01      2\n",
      "1973-01-01      2\n",
      "1974-01-01      6\n",
      "1975-01-01      1\n",
      "1976-01-01      6\n",
      "1977-01-01      3\n",
      "1978-01-01      6\n",
      "1979-01-01      4\n",
      "1980-01-01      7\n",
      "1981-01-01      4\n",
      "1982-01-01      6\n",
      "1983-01-01      8\n",
      "1984-01-01     13\n",
      "1985-01-01     15\n",
      "1986-01-01     11\n",
      "1987-01-01     16\n",
      "1988-01-01     19\n",
      "1989-01-01     21\n",
      "1990-01-01     15\n",
      "1991-01-01      9\n",
      "1992-01-01      4\n",
      "1993-01-01      7\n",
      "1994-01-01     16\n",
      "1995-01-01     26\n",
      "1996-01-01     16\n",
      "1997-01-01     24\n",
      "1998-01-01     15\n",
      "1999-01-01     13\n",
      "2000-01-01     26\n",
      "2001-01-01     29\n",
      "2002-01-01     23\n",
      "2003-01-01     44\n",
      "2004-01-01     80\n",
      "2005-01-01     30\n",
      "2006-01-01     78\n",
      "2007-01-01     76\n",
      "2008-01-01     59\n",
      "2009-01-01     56\n",
      "2010-01-01     88\n",
      "2011-01-01     65\n",
      "2012-01-01    242\n",
      "2013-01-01    180\n",
      "2014-01-01    228\n",
      "2015-01-01    261\n",
      "### Differenced Data ###\n",
      "day\n",
      "1971-01-01      2.0\n",
      "1972-01-01     -2.0\n",
      "1973-01-01      0.0\n",
      "1974-01-01      4.0\n",
      "1975-01-01     -5.0\n",
      "1976-01-01      5.0\n",
      "1977-01-01     -3.0\n",
      "1978-01-01      3.0\n",
      "1979-01-01     -2.0\n",
      "1980-01-01      3.0\n",
      "1981-01-01     -3.0\n",
      "1982-01-01      2.0\n",
      "1983-01-01      2.0\n",
      "1984-01-01      5.0\n",
      "1985-01-01      2.0\n",
      "1986-01-01     -4.0\n",
      "1987-01-01      5.0\n",
      "1988-01-01      3.0\n",
      "1989-01-01      2.0\n",
      "1990-01-01     -6.0\n",
      "1991-01-01     -6.0\n",
      "1992-01-01     -5.0\n",
      "1993-01-01      3.0\n",
      "1994-01-01      9.0\n",
      "1995-01-01     10.0\n",
      "1996-01-01    -10.0\n",
      "1997-01-01      8.0\n",
      "1998-01-01     -9.0\n",
      "1999-01-01     -2.0\n",
      "2000-01-01     13.0\n",
      "2001-01-01      3.0\n",
      "2002-01-01     -6.0\n",
      "2003-01-01     21.0\n",
      "2004-01-01     36.0\n",
      "2005-01-01    -50.0\n",
      "2006-01-01     48.0\n",
      "2007-01-01     -2.0\n",
      "2008-01-01    -17.0\n",
      "2009-01-01     -3.0\n",
      "2010-01-01     32.0\n",
      "2011-01-01    -23.0\n",
      "2012-01-01    177.0\n",
      "2013-01-01    -62.0\n",
      "2014-01-01     48.0\n",
      "2015-01-01     33.0\n",
      "Name: count, dtype: float64\n"
     ]
    }
   ],
   "source": [
    "# Differencing\n",
    "\n",
    "diff_train_data = train_data.copy()\n",
    "diff_train_data = diff_train_data['count'].diff()\n",
    "diff_train_data = diff_train_data.dropna()\n",
    "print('########## RAW DATA ##########')\n",
    "print(train_data)\n",
    "print('### Differenced Data ###')\n",
    "print(diff_train_data)"
   ]
  },
  {
   "cell_type": "code",
   "execution_count": 85,
   "metadata": {},
   "outputs": [
    {
     "name": "stderr",
     "output_type": "stream",
     "text": [
      "C:\\Users\\zyunhyeok\\anaconda3\\envs\\dl\\lib\\site-packages\\matplotlib\\backends\\backend_agg.py:240: RuntimeWarning: Glyph 8722 missing from current font.\n",
      "  font.set_text(s, 0.0, flags=flags)\n",
      "C:\\Users\\zyunhyeok\\anaconda3\\envs\\dl\\lib\\site-packages\\matplotlib\\backends\\backend_agg.py:203: RuntimeWarning: Glyph 8722 missing from current font.\n",
      "  font.set_text(s, 0, flags=flags)\n"
     ]
    },
    {
     "data": {
      "image/png": "[encoded data removed]",
      "text/plain": [
       "<Figure size 864x576 with 2 Axes>"
      ]
     },
     "metadata": {
      "needs_background": "light"
     },
     "output_type": "display_data"
    }
   ],
   "source": [
    "# Differenced data plot\n",
    "\n",
    "plt.figure(figsize=(12,8))\n",
    "plt.subplot(211)\n",
    "plt.plot(train_data['count'])\n",
    "plt.legend(['Raw Data (Nonstationary)'])\n",
    "plt.subplot(212)\n",
    "plt.plot(diff_train_data, 'orange')\n",
    "plt.legend(['Differenced Data (Stationary)'])\n",
    "plt.show()"
   ]
  },
  {
   "cell_type": "code",
   "execution_count": 86,
   "metadata": {},
   "outputs": [
    {
     "name": "stderr",
     "output_type": "stream",
     "text": [
      "C:\\Users\\zyunhyeok\\anaconda3\\envs\\dl\\lib\\site-packages\\statsmodels\\graphics\\tsaplots.py:348: FutureWarning: The default method 'yw' can produce PACF values outside of the [-1,1] interval. After 0.13, the default will change tounadjusted Yule-Walker ('ywm'). You can use this method now by setting method='ywm'.\n",
      "  warnings.warn(\n",
      "C:\\Users\\zyunhyeok\\anaconda3\\envs\\dl\\lib\\site-packages\\matplotlib\\backends\\backend_agg.py:240: RuntimeWarning: Glyph 8722 missing from current font.\n",
      "  font.set_text(s, 0.0, flags=flags)\n",
      "C:\\Users\\zyunhyeok\\anaconda3\\envs\\dl\\lib\\site-packages\\matplotlib\\backends\\backend_agg.py:203: RuntimeWarning: Glyph 8722 missing from current font.\n",
      "  font.set_text(s, 0, flags=flags)\n"
     ]
    },
    {
     "data": {
      "image/png": "[encoded data removed]",
      "text/plain": [
       "<Figure size 720x360 with 2 Axes>"
      ]
     },
     "metadata": {
      "needs_background": "light"
     },
     "output_type": "display_data"
    }
   ],
   "source": [
    "fig, ax = plt.subplots(1,2, figsize=(10,5))\n",
    "fig.suptitle('Differenced Data')\n",
    "sm.graphics.tsa.plot_acf(diff_train_data.values.squeeze(), lags=10, ax=ax[0])\n",
    "sm.graphics.tsa.plot_pacf(diff_train_data.values.squeeze(), lags=10, ax=ax[1])\n",
    "plt.show()"
   ]
  },
  {
   "cell_type": "markdown",
   "metadata": {},
   "source": [
    "- Estimate parameters"
   ]
  },
  {
   "cell_type": "code",
   "execution_count": 87,
   "metadata": {},
   "outputs": [
    {
     "data": {
      "text/html": [
       "<table class=\"simpletable\">\n",
       "<caption>SARIMAX Results</caption>\n",
       "<tr>\n",
       "  <th>Dep. Variable:</th>           <td>y</td>        <th>  No. Observations:  </th>    <td>46</td>   \n",
       "</tr>\n",
       "<tr>\n",
       "  <th>Model:</th>            <td>ARIMA(1, 1, 0)</td>  <th>  Log Likelihood     </th> <td>-215.867</td>\n",
       "</tr>\n",
       "<tr>\n",
       "  <th>Date:</th>            <td>Tue, 15 Feb 2022</td> <th>  AIC                </th>  <td>435.734</td>\n",
       "</tr>\n",
       "<tr>\n",
       "  <th>Time:</th>                <td>18:22:55</td>     <th>  BIC                </th>  <td>439.348</td>\n",
       "</tr>\n",
       "<tr>\n",
       "  <th>Sample:</th>                  <td>0</td>        <th>  HQIC               </th>  <td>437.081</td>\n",
       "</tr>\n",
       "<tr>\n",
       "  <th></th>                       <td> - 46</td>      <th>                     </th>     <td> </td>   \n",
       "</tr>\n",
       "<tr>\n",
       "  <th>Covariance Type:</th>        <td>opg</td>       <th>                     </th>     <td> </td>   \n",
       "</tr>\n",
       "</table>\n",
       "<table class=\"simpletable\">\n",
       "<tr>\n",
       "     <td></td>       <th>coef</th>     <th>std err</th>      <th>z</th>      <th>P>|z|</th>  <th>[0.025</th>    <th>0.975]</th>  \n",
       "</tr>\n",
       "<tr>\n",
       "  <th>ar.L1</th>  <td>   -0.4389</td> <td>    0.178</td> <td>   -2.471</td> <td> 0.013</td> <td>   -0.787</td> <td>   -0.091</td>\n",
       "</tr>\n",
       "<tr>\n",
       "  <th>sigma2</th> <td>  855.3218</td> <td>   66.335</td> <td>   12.894</td> <td> 0.000</td> <td>  725.307</td> <td>  985.337</td>\n",
       "</tr>\n",
       "</table>\n",
       "<table class=\"simpletable\">\n",
       "<tr>\n",
       "  <th>Ljung-Box (L1) (Q):</th>      <td>0.11</td>  <th>  Jarque-Bera (JB):  </th> <td>872.99</td>\n",
       "</tr>\n",
       "<tr>\n",
       "  <th>Prob(Q):</th>                 <td>0.74</td>  <th>  Prob(JB):          </th>  <td>0.00</td> \n",
       "</tr>\n",
       "<tr>\n",
       "  <th>Heteroskedasticity (H):</th> <td>336.21</td> <th>  Skew:              </th>  <td>4.04</td> \n",
       "</tr>\n",
       "<tr>\n",
       "  <th>Prob(H) (two-sided):</th>     <td>0.00</td>  <th>  Kurtosis:          </th>  <td>23.00</td>\n",
       "</tr>\n",
       "</table><br/><br/>Warnings:<br/>[1] Covariance matrix calculated using the outer product of gradients (complex-step)."
      ],
      "text/plain": [
       "<class 'statsmodels.iolib.summary.Summary'>\n",
       "\"\"\"\n",
       "                               SARIMAX Results                                \n",
       "==============================================================================\n",
       "Dep. Variable:                      y   No. Observations:                   46\n",
       "Model:                 ARIMA(1, 1, 0)   Log Likelihood                -215.867\n",
       "Date:                Tue, 15 Feb 2022   AIC                            435.734\n",
       "Time:                        18:22:55   BIC                            439.348\n",
       "Sample:                             0   HQIC                           437.081\n",
       "                                 - 46                                         \n",
       "Covariance Type:                  opg                                         \n",
       "==============================================================================\n",
       "                 coef    std err          z      P>|z|      [0.025      0.975]\n",
       "------------------------------------------------------------------------------\n",
       "ar.L1         -0.4389      0.178     -2.471      0.013      -0.787      -0.091\n",
       "sigma2       855.3218     66.335     12.894      0.000     725.307     985.337\n",
       "===================================================================================\n",
       "Ljung-Box (L1) (Q):                   0.11   Jarque-Bera (JB):               872.99\n",
       "Prob(Q):                              0.74   Prob(JB):                         0.00\n",
       "Heteroskedasticity (H):             336.21   Skew:                             4.04\n",
       "Prob(H) (two-sided):                  0.00   Kurtosis:                        23.00\n",
       "===================================================================================\n",
       "\n",
       "Warnings:\n",
       "[1] Covariance matrix calculated using the outer product of gradients (complex-step).\n",
       "\"\"\""
      ]
     },
     "execution_count": 87,
     "metadata": {},
     "output_type": "execute_result"
    }
   ],
   "source": [
    "model = ARIMA(train_data.values, order = (1,1,0))\n",
    "model_fit = model.fit()\n",
    "model_fit.summary()"
   ]
  },
  {
   "cell_type": "markdown",
   "metadata": {},
   "source": [
    "- Diagnosis Check - ARIMA"
   ]
  },
  {
   "cell_type": "code",
   "execution_count": 88,
   "metadata": {},
   "outputs": [
    {
     "name": "stdout",
     "output_type": "stream",
     "text": [
      "ARIMA: (0, 1, 0) >> AIC : 443.38\n",
      "ARIMA: (0, 1, 1) >> AIC : 438.86\n",
      "ARIMA: (0, 1, 2) >> AIC : 432.64\n",
      "ARIMA: (1, 1, 0) >> AIC : 435.73\n",
      "ARIMA: (1, 1, 1) >> AIC : 437.64\n",
      "ARIMA: (1, 1, 2) >> AIC : 434.63\n",
      "ARIMA: (2, 1, 0) >> AIC : 437.5\n",
      "ARIMA: (2, 1, 1) >> AIC : 435.7\n",
      "ARIMA: (2, 1, 2) >> AIC : 429.69\n"
     ]
    },
    {
     "name": "stderr",
     "output_type": "stream",
     "text": [
      "C:\\Users\\zyunhyeok\\anaconda3\\envs\\dl\\lib\\site-packages\\statsmodels\\tsa\\statespace\\sarimax.py:966: UserWarning: Non-stationary starting autoregressive parameters found. Using zeros as starting parameters.\n",
      "  warn('Non-stationary starting autoregressive parameters'\n",
      "C:\\Users\\zyunhyeok\\anaconda3\\envs\\dl\\lib\\site-packages\\statsmodels\\tsa\\statespace\\sarimax.py:978: UserWarning: Non-invertible starting MA parameters found. Using zeros as starting parameters.\n",
      "  warn('Non-invertible starting MA parameters found.'\n"
     ]
    }
   ],
   "source": [
    "# Parameter Search\n",
    "p = range(0,3)\n",
    "d = range(1,2)\n",
    "q = range(0,3)\n",
    "pdq = list(itertools.product(p, d, q))\n",
    "\n",
    "aic = []\n",
    "for i in pdq:\n",
    "    model = ARIMA(train_data.values, order = (i))\n",
    "    model_fit = model.fit()\n",
    "    print(f'ARIMA: {i} >> AIC : {round(model_fit.aic,2)}')\n",
    "    aic.append(round(model_fit.aic,2))"
   ]
  },
  {
   "cell_type": "code",
   "execution_count": 89,
   "metadata": {},
   "outputs": [
    {
     "data": {
      "text/plain": [
       "[((2, 1, 2), 429.69)]"
      ]
     },
     "execution_count": 89,
     "metadata": {},
     "output_type": "execute_result"
    }
   ],
   "source": [
    "# Search optimal parameters\n",
    "\n",
    "optimal = [(pdq[i], j) for i,j in enumerate(aic) if j==min(aic)]\n",
    "optimal"
   ]
  },
  {
   "cell_type": "code",
   "execution_count": 90,
   "metadata": {},
   "outputs": [
    {
     "data": {
      "text/html": [
       "<table class=\"simpletable\">\n",
       "<caption>SARIMAX Results</caption>\n",
       "<tr>\n",
       "  <th>Dep. Variable:</th>           <td>y</td>        <th>  No. Observations:  </th>    <td>46</td>   \n",
       "</tr>\n",
       "<tr>\n",
       "  <th>Model:</th>            <td>ARIMA(2, 1, 2)</td>  <th>  Log Likelihood     </th> <td>-209.846</td>\n",
       "</tr>\n",
       "<tr>\n",
       "  <th>Date:</th>            <td>Tue, 15 Feb 2022</td> <th>  AIC                </th>  <td>429.692</td>\n",
       "</tr>\n",
       "<tr>\n",
       "  <th>Time:</th>                <td>18:23:02</td>     <th>  BIC                </th>  <td>438.725</td>\n",
       "</tr>\n",
       "<tr>\n",
       "  <th>Sample:</th>                  <td>0</td>        <th>  HQIC               </th>  <td>433.059</td>\n",
       "</tr>\n",
       "<tr>\n",
       "  <th></th>                       <td> - 46</td>      <th>                     </th>     <td> </td>   \n",
       "</tr>\n",
       "<tr>\n",
       "  <th>Covariance Type:</th>        <td>opg</td>       <th>                     </th>     <td> </td>   \n",
       "</tr>\n",
       "</table>\n",
       "<table class=\"simpletable\">\n",
       "<tr>\n",
       "     <td></td>       <th>coef</th>     <th>std err</th>      <th>z</th>      <th>P>|z|</th>  <th>[0.025</th>    <th>0.975]</th>  \n",
       "</tr>\n",
       "<tr>\n",
       "  <th>ar.L1</th>  <td>   -0.9990</td> <td>    0.344</td> <td>   -2.906</td> <td> 0.004</td> <td>   -1.673</td> <td>   -0.325</td>\n",
       "</tr>\n",
       "<tr>\n",
       "  <th>ar.L2</th>  <td>   -0.8029</td> <td>    0.217</td> <td>   -3.698</td> <td> 0.000</td> <td>   -1.228</td> <td>   -0.377</td>\n",
       "</tr>\n",
       "<tr>\n",
       "  <th>ma.L1</th>  <td>    0.6178</td> <td>    0.192</td> <td>    3.223</td> <td> 0.001</td> <td>    0.242</td> <td>    0.993</td>\n",
       "</tr>\n",
       "<tr>\n",
       "  <th>ma.L2</th>  <td>    0.8979</td> <td>    0.220</td> <td>    4.086</td> <td> 0.000</td> <td>    0.467</td> <td>    1.329</td>\n",
       "</tr>\n",
       "<tr>\n",
       "  <th>sigma2</th> <td>  618.2989</td> <td>  108.957</td> <td>    5.675</td> <td> 0.000</td> <td>  404.747</td> <td>  831.851</td>\n",
       "</tr>\n",
       "</table>\n",
       "<table class=\"simpletable\">\n",
       "<tr>\n",
       "  <th>Ljung-Box (L1) (Q):</th>      <td>0.14</td>  <th>  Jarque-Bera (JB):  </th> <td>208.74</td>\n",
       "</tr>\n",
       "<tr>\n",
       "  <th>Prob(Q):</th>                 <td>0.71</td>  <th>  Prob(JB):          </th>  <td>0.00</td> \n",
       "</tr>\n",
       "<tr>\n",
       "  <th>Heteroskedasticity (H):</th> <td>268.47</td> <th>  Skew:              </th>  <td>2.23</td> \n",
       "</tr>\n",
       "<tr>\n",
       "  <th>Prob(H) (two-sided):</th>     <td>0.00</td>  <th>  Kurtosis:          </th>  <td>12.56</td>\n",
       "</tr>\n",
       "</table><br/><br/>Warnings:<br/>[1] Covariance matrix calculated using the outer product of gradients (complex-step)."
      ],
      "text/plain": [
       "<class 'statsmodels.iolib.summary.Summary'>\n",
       "\"\"\"\n",
       "                               SARIMAX Results                                \n",
       "==============================================================================\n",
       "Dep. Variable:                      y   No. Observations:                   46\n",
       "Model:                 ARIMA(2, 1, 2)   Log Likelihood                -209.846\n",
       "Date:                Tue, 15 Feb 2022   AIC                            429.692\n",
       "Time:                        18:23:02   BIC                            438.725\n",
       "Sample:                             0   HQIC                           433.059\n",
       "                                 - 46                                         \n",
       "Covariance Type:                  opg                                         \n",
       "==============================================================================\n",
       "                 coef    std err          z      P>|z|      [0.025      0.975]\n",
       "------------------------------------------------------------------------------\n",
       "ar.L1         -0.9990      0.344     -2.906      0.004      -1.673      -0.325\n",
       "ar.L2         -0.8029      0.217     -3.698      0.000      -1.228      -0.377\n",
       "ma.L1          0.6178      0.192      3.223      0.001       0.242       0.993\n",
       "ma.L2          0.8979      0.220      4.086      0.000       0.467       1.329\n",
       "sigma2       618.2989    108.957      5.675      0.000     404.747     831.851\n",
       "===================================================================================\n",
       "Ljung-Box (L1) (Q):                   0.14   Jarque-Bera (JB):               208.74\n",
       "Prob(Q):                              0.71   Prob(JB):                         0.00\n",
       "Heteroskedasticity (H):             268.47   Skew:                             2.23\n",
       "Prob(H) (two-sided):                  0.00   Kurtosis:                        12.56\n",
       "===================================================================================\n",
       "\n",
       "Warnings:\n",
       "[1] Covariance matrix calculated using the outer product of gradients (complex-step).\n",
       "\"\"\""
      ]
     },
     "execution_count": 90,
     "metadata": {},
     "output_type": "execute_result"
    }
   ],
   "source": [
    "model_opt = ARIMA(train_data.values, order=optimal[0][0])\n",
    "model_opt_fit = model_opt.fit()\n",
    "\n",
    "model_opt_fit.summary()"
   ]
  },
  {
   "cell_type": "markdown",
   "metadata": {},
   "source": [
    "- Use Model to Forecast - ARIMA"
   ]
  },
  {
   "cell_type": "code",
   "execution_count": 95,
   "metadata": {},
   "outputs": [
    {
     "data": {
      "text/plain": [
       "array([215.6781741 , 248.66648412, 252.09849203, 222.18527043,\n",
       "       249.31260892, 246.22879422])"
      ]
     },
     "execution_count": 95,
     "metadata": {},
     "output_type": "execute_result"
    }
   ],
   "source": [
    "prediction = model_opt_fit.forecast(len(test_data))\n",
    "prediction"
   ]
  },
  {
   "cell_type": "code",
   "execution_count": null,
   "metadata": {},
   "outputs": [],
   "source": [
    "prediction = model_opt_fit.forecast(len(test_data))\n",
    "predicted_value = prediction[0]\n",
    "predicted_ub = prediction[2][:,0]\n",
    "predicted_lb = prediction[2][:,1]\n",
    "predict_index = list(test_data.index)\n",
    "r2 = r2_score(test_data, predicted_value)"
   ]
  },
  {
   "cell_type": "code",
   "execution_count": null,
   "metadata": {},
   "outputs": [],
   "source": [
    "fig, ax = plt.subplots(figsize=(12,6))\n",
    "residence_ts.plot(ax=ax)\n",
    "ax.vlines('2010-01-01', 0, 1000, linestyle='--', color='r', label='Start of Forecast');\n",
    "ax.plot(predict_index, predicted_value, label='Prediction')\n",
    "ax.fill_between(predict_index, predicted_lb, predicted_ub, color = 'k', alpha=0.1, label = \"0.95 Prediction Interval\")\n",
    "ax.legend(loc='upper left')\n",
    "plt.suptitle(f'ARIMA {optimal[0][0]} Prediction Results {r2_score: {round(r2,2)})')\n",
    "plt.show()"
   ]
  },
  {
   "cell_type": "markdown",
   "metadata": {},
   "source": [
    "- Diagnosis Check - SARIMA"
   ]
  },
  {
   "cell_type": "code",
   "execution_count": null,
   "metadata": {},
   "outputs": [],
   "source": [
    "# Parameter Search\n",
    "\n",
    "print('Example of parameter combinations for Seasonal ARIMA')\n",
    "p = range(0,3)\n",
    "d = range(1,2)\n",
    "q = range(0,3)\n",
    "pdq = list(itertools.product(p,d,q))\n",
    "seasonal_pdq = [(x[0], x[1], x[2], 12) for x in list(itertools.product(p,d,q))]\n",
    "\n",
    "aic = []\n",
    "params = []\n",
    "for i in pdq:\n",
    "    for j in seasonal_pdq:\n",
    "        try:\n",
    "            model = SARIMAX(train_data.values, order=(i), seasonal_order = (i))\n",
    "            model_fit = model.fit()\n",
    "            print(f'SARIMA: {i}{j} >> AIC : {round(model_fit.aic,2)}')\n",
    "            aic.append(round(model_fit.aic,2))\n",
    "            params.append((i,j))\n",
    "        except:\n",
    "            continue"
   ]
  },
  {
   "cell_type": "code",
   "execution_count": null,
   "metadata": {},
   "outputs": [],
   "source": [
    "# Search optimal parameters\n",
    "\n",
    "optimal = [(parmas[i], j) for i, j in enumerate(aic) if j==min(aic)]\n",
    "optimal"
   ]
  },
  {
   "cell_type": "code",
   "execution_count": null,
   "metadata": {},
   "outputs": [],
   "source": [
    "model_opt = SARIMAX(train_data.values, order=optimal[0][0][0], seasonal_order=optimal[0][0][1])\n",
    "model_opt_fit = model_opt.fit()\n",
    "\n",
    "model_opt_fit.summary()"
   ]
  },
  {
   "cell_type": "markdown",
   "metadata": {},
   "source": [
    "- Use Model to Forecast - SARIMA"
   ]
  },
  {
   "cell_type": "code",
   "execution_count": null,
   "metadata": {},
   "outputs": [],
   "source": [
    "prediction = model_opt_fit.get_forecast(len(test_data))\n",
    "predicted_value = prediction.predicted_mean\n",
    "predicted_ub = prediction.conf_int()[:,0]\n",
    "predicted_lb = prediction.conf_int()[:,1]\n",
    "predict_index = list(test_data.index)\n",
    "r2 = r2_score(test_data, predicted_value)"
   ]
  },
  {
   "cell_type": "code",
   "execution_count": null,
   "metadata": {},
   "outputs": [],
   "source": [
    "fig, ax = plt.subplots(figsize=(12,6))\n",
    "data.plot(ax=ax)\n",
    "ax.vlines('2010-01-01', 0, 1000, linestyle='--', color='r', label='Start of Forecast');\n",
    "ax.plot(predict_index, predicted_value, label='Prediction')\n",
    "ax.fill_between(predict_index, predicted_lb, predicted_ub, color = 'k', alpha=0.1, label = \"0.95 Prediction Interval\")\n",
    "ax.legend(loc='upper left')\n",
    "plt.suptitle(f'SARIMA {optimal[0][0][0]}, {optimal[0][0][1]} Prediction Results {r2_score: {round(r2,2)})')\n",
    "plt.show()"
   ]
  },
  {
   "cell_type": "markdown",
   "metadata": {},
   "source": [
    "- Diagnosis Check- auto_arima"
   ]
  },
  {
   "cell_type": "code",
   "execution_count": null,
   "metadata": {},
   "outputs": [],
   "source": [
    "# Parameter search\n",
    "\n",
    "auto_arima_model = auto_arima(train_data, start_p=1, start_q=1,\n",
    "                              max_p=3, max_q=3, m=12, seasonal=True,\n",
    "                              d=1, D=1,\n",
    "                              max_P=3, max_Q=3,\n",
    "                              trace=True,\n",
    "                              error_action='ignore',\n",
    "                              suppress_warnings=True,\n",
    "                              stepwise=False)"
   ]
  },
  {
   "cell_type": "code",
   "execution_count": null,
   "metadata": {},
   "outputs": [],
   "source": [
    "auto_arima_model.summary()"
   ]
  },
  {
   "cell_type": "code",
   "execution_count": null,
   "metadata": {},
   "outputs": [],
   "source": [
    "prediction = auto_arima_model.predict(len(test_data), return_conf_int=True)\n",
    "predicted_value = prediction[0]\n",
    "predicted_ub = prediction[1][,:0]\n",
    "predicted_lb = prediction[1][,:1]\n",
    "predict_index = list(test_data.index)\n",
    "r2 = r2_score(test_data, predicted_value)"
   ]
  },
  {
   "cell_type": "code",
   "execution_count": null,
   "metadata": {},
   "outputs": [],
   "source": [
    "fig, ax = plt.subplots(figsize=(12,6))\n",
    "data.plot(ax=ax)\n",
    "ax.vlines('2010-01-01', 0, 1000, linestyle='--', color='r', label='Start of Forecast');\n",
    "ax.plot(predict_index, predicted_value, label='Prediction')\n",
    "ax.fill_between(predict_index, predicted_lb, predicted_ub, color = 'k', alpha=0.1, label = \"0.95 Prediction Interval\")\n",
    "ax.legend(loc='upper left')\n",
    "plt.suptitle(f'SARIMA {auto_arima_model.order}, {auto_arima_model.seasonal_order} Prediction Results {r2_score: {round(r2,2)})')\n",
    "plt.show()"
   ]
  }
 ],
 "metadata": {
  "interpreter": {
   "hash": "e5e7a4ae074c9185eb39640c1947b0bd5a2cef738bac641e5c723955a7cf82e8"
  },
  "kernelspec": {
   "display_name": "Python 3.9.7 ('dl')",
   "language": "python",
   "name": "python3"
  },
  "language_info": {
   "codemirror_mode": {
    "name": "ipython",
    "version": 3
   },
   "file_extension": ".py",
   "mimetype": "text/x-python",
   "name": "python",
   "nbconvert_exporter": "python",
   "pygments_lexer": "ipython3",
   "version": "3.8.0"
  },
  "orig_nbformat": 4
 },
 "nbformat": 4,
 "nbformat_minor": 2
}
