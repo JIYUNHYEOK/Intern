{
 "cells": [
  {
   "cell_type": "markdown",
   "metadata": {},
   "source": [
    "# Module Import"
   ]
  },
  {
   "cell_type": "code",
   "execution_count": 1,
   "metadata": {},
   "outputs": [],
   "source": [
    "import pandas as pd\n",
    "import numpy as np\n",
    "import openpyxl\n",
    "\n",
    "import statsmodels.formula.api as smf\n",
    "\n",
    "import matplotlib.pyplot as plt\n",
    "import seaborn as sns\n",
    "\n",
    "import warnings\n",
    "\n",
    "# pandas 경고 무시\n",
    "pd.set_option('mode.chained_assignment',  None)\n",
    "\n",
    "from matplotlib import font_manager, rc\n",
    "\n",
    "font_name = font_manager.FontProperties(fname=\"c:/Windows/Fonts/malgun.ttf\").get_name()\n",
    "rc('font', family=font_name)"
   ]
  },
  {
   "cell_type": "markdown",
   "metadata": {},
   "source": [
    "# Data Load"
   ]
  },
  {
   "cell_type": "code",
   "execution_count": 2,
   "metadata": {},
   "outputs": [
    {
     "name": "stdout",
     "output_type": "stream",
     "text": [
      "(54051, 51)\n"
     ]
    },
    {
     "data": {
      "text/html": [
       "<div>\n",
       "<style scoped>\n",
       "    .dataframe tbody tr th:only-of-type {\n",
       "        vertical-align: middle;\n",
       "    }\n",
       "\n",
       "    .dataframe tbody tr th {\n",
       "        vertical-align: top;\n",
       "    }\n",
       "\n",
       "    .dataframe thead th {\n",
       "        text-align: right;\n",
       "    }\n",
       "</style>\n",
       "<table border=\"1\" class=\"dataframe\">\n",
       "  <thead>\n",
       "    <tr style=\"text-align: right;\">\n",
       "      <th></th>\n",
       "      <th>번호</th>\n",
       "      <th>개방서비스명</th>\n",
       "      <th>개방서비스아이디</th>\n",
       "      <th>개방자치단체코드</th>\n",
       "      <th>관리번호</th>\n",
       "      <th>인허가일자</th>\n",
       "      <th>인허가취소일자</th>\n",
       "      <th>영업상태구분코드</th>\n",
       "      <th>영업상태명</th>\n",
       "      <th>상세영업상태코드</th>\n",
       "      <th>...</th>\n",
       "      <th>조건부허가시작일자</th>\n",
       "      <th>조건부허가종료일자</th>\n",
       "      <th>건물소유구분명</th>\n",
       "      <th>세탁기수</th>\n",
       "      <th>여성종사자수</th>\n",
       "      <th>남성종사자수</th>\n",
       "      <th>회수건조수</th>\n",
       "      <th>침대수</th>\n",
       "      <th>다중이용업소여부</th>\n",
       "      <th>Unnamed: 50</th>\n",
       "    </tr>\n",
       "  </thead>\n",
       "  <tbody>\n",
       "    <tr>\n",
       "      <th>0</th>\n",
       "      <td>1</td>\n",
       "      <td>숙박업</td>\n",
       "      <td>03_11_03_P</td>\n",
       "      <td>3620000</td>\n",
       "      <td>3620000-201-2005-00005</td>\n",
       "      <td>20050818</td>\n",
       "      <td>NaN</td>\n",
       "      <td>1</td>\n",
       "      <td>영업/정상</td>\n",
       "      <td>1</td>\n",
       "      <td>...</td>\n",
       "      <td>NaN</td>\n",
       "      <td>NaN</td>\n",
       "      <td>임대</td>\n",
       "      <td>0.0</td>\n",
       "      <td>NaN</td>\n",
       "      <td>NaN</td>\n",
       "      <td>0.0</td>\n",
       "      <td>0.0</td>\n",
       "      <td>N</td>\n",
       "      <td>NaN</td>\n",
       "    </tr>\n",
       "    <tr>\n",
       "      <th>1</th>\n",
       "      <td>2</td>\n",
       "      <td>숙박업</td>\n",
       "      <td>03_11_03_P</td>\n",
       "      <td>3620000</td>\n",
       "      <td>3620000-201-2000-00013</td>\n",
       "      <td>20000615</td>\n",
       "      <td>NaN</td>\n",
       "      <td>1</td>\n",
       "      <td>영업/정상</td>\n",
       "      <td>1</td>\n",
       "      <td>...</td>\n",
       "      <td>NaN</td>\n",
       "      <td>NaN</td>\n",
       "      <td>NaN</td>\n",
       "      <td>0.0</td>\n",
       "      <td>NaN</td>\n",
       "      <td>NaN</td>\n",
       "      <td>0.0</td>\n",
       "      <td>0.0</td>\n",
       "      <td>N</td>\n",
       "      <td>NaN</td>\n",
       "    </tr>\n",
       "    <tr>\n",
       "      <th>2</th>\n",
       "      <td>3</td>\n",
       "      <td>숙박업</td>\n",
       "      <td>03_11_03_P</td>\n",
       "      <td>3620000</td>\n",
       "      <td>3620000-214-1985-00002</td>\n",
       "      <td>19851119</td>\n",
       "      <td>NaN</td>\n",
       "      <td>1</td>\n",
       "      <td>영업/정상</td>\n",
       "      <td>1</td>\n",
       "      <td>...</td>\n",
       "      <td>NaN</td>\n",
       "      <td>NaN</td>\n",
       "      <td>자가</td>\n",
       "      <td>0.0</td>\n",
       "      <td>NaN</td>\n",
       "      <td>NaN</td>\n",
       "      <td>0.0</td>\n",
       "      <td>0.0</td>\n",
       "      <td>N</td>\n",
       "      <td>NaN</td>\n",
       "    </tr>\n",
       "    <tr>\n",
       "      <th>3</th>\n",
       "      <td>4</td>\n",
       "      <td>숙박업</td>\n",
       "      <td>03_11_03_P</td>\n",
       "      <td>3620000</td>\n",
       "      <td>3620000-201-2000-00014</td>\n",
       "      <td>20000710</td>\n",
       "      <td>NaN</td>\n",
       "      <td>1</td>\n",
       "      <td>영업/정상</td>\n",
       "      <td>1</td>\n",
       "      <td>...</td>\n",
       "      <td>NaN</td>\n",
       "      <td>NaN</td>\n",
       "      <td>자가</td>\n",
       "      <td>0.0</td>\n",
       "      <td>NaN</td>\n",
       "      <td>NaN</td>\n",
       "      <td>0.0</td>\n",
       "      <td>0.0</td>\n",
       "      <td>N</td>\n",
       "      <td>NaN</td>\n",
       "    </tr>\n",
       "    <tr>\n",
       "      <th>4</th>\n",
       "      <td>5</td>\n",
       "      <td>숙박업</td>\n",
       "      <td>03_11_03_P</td>\n",
       "      <td>3620000</td>\n",
       "      <td>3620000-201-2002-00007</td>\n",
       "      <td>20020429</td>\n",
       "      <td>NaN</td>\n",
       "      <td>1</td>\n",
       "      <td>영업/정상</td>\n",
       "      <td>1</td>\n",
       "      <td>...</td>\n",
       "      <td>NaN</td>\n",
       "      <td>NaN</td>\n",
       "      <td>NaN</td>\n",
       "      <td>0.0</td>\n",
       "      <td>NaN</td>\n",
       "      <td>NaN</td>\n",
       "      <td>0.0</td>\n",
       "      <td>0.0</td>\n",
       "      <td>N</td>\n",
       "      <td>NaN</td>\n",
       "    </tr>\n",
       "  </tbody>\n",
       "</table>\n",
       "<p>5 rows × 51 columns</p>\n",
       "</div>"
      ],
      "text/plain": [
       "   번호 개방서비스명    개방서비스아이디  개방자치단체코드                    관리번호     인허가일자  인허가취소일자  \\\n",
       "0   1    숙박업  03_11_03_P   3620000  3620000-201-2005-00005  20050818      NaN   \n",
       "1   2    숙박업  03_11_03_P   3620000  3620000-201-2000-00013  20000615      NaN   \n",
       "2   3    숙박업  03_11_03_P   3620000  3620000-214-1985-00002  19851119      NaN   \n",
       "3   4    숙박업  03_11_03_P   3620000  3620000-201-2000-00014  20000710      NaN   \n",
       "4   5    숙박업  03_11_03_P   3620000  3620000-201-2002-00007  20020429      NaN   \n",
       "\n",
       "   영업상태구분코드  영업상태명  상세영업상태코드  ... 조건부허가시작일자  조건부허가종료일자  건물소유구분명  세탁기수  여성종사자수  \\\n",
       "0         1  영업/정상         1  ...       NaN        NaN       임대   0.0     NaN   \n",
       "1         1  영업/정상         1  ...       NaN        NaN      NaN   0.0     NaN   \n",
       "2         1  영업/정상         1  ...       NaN        NaN       자가   0.0     NaN   \n",
       "3         1  영업/정상         1  ...       NaN        NaN       자가   0.0     NaN   \n",
       "4         1  영업/정상         1  ...       NaN        NaN      NaN   0.0     NaN   \n",
       "\n",
       "  남성종사자수 회수건조수  침대수 다중이용업소여부 Unnamed: 50  \n",
       "0    NaN   0.0  0.0        N         NaN  \n",
       "1    NaN   0.0  0.0        N         NaN  \n",
       "2    NaN   0.0  0.0        N         NaN  \n",
       "3    NaN   0.0  0.0        N         NaN  \n",
       "4    NaN   0.0  0.0        N         NaN  \n",
       "\n",
       "[5 rows x 51 columns]"
      ]
     },
     "execution_count": 2,
     "metadata": {},
     "output_type": "execute_result"
    }
   ],
   "source": [
    "data = pd.read_csv('../data/행정자치부 공공데이터 숙박업 등록현황.csv', encoding = 'cp949')\n",
    "# 데이터 출처 : 공공데이터포털 / 행정안전부_숙박업 데이터\n",
    "# https://www.data.go.kr/data/15044968/fileData.do\n",
    "print(data.shape)\n",
    "data.head()"
   ]
  },
  {
   "cell_type": "markdown",
   "metadata": {},
   "source": [
    "# Data Preprocessing"
   ]
  },
  {
   "cell_type": "code",
   "execution_count": 3,
   "metadata": {},
   "outputs": [],
   "source": [
    "# 영업중인 숙박시설만 추출\n",
    "df = data[data['상세영업상태명']==\"영업\"]\n",
    "\n",
    "# 필요한 열만 추출 \n",
    "df = df[['사업장명','업태구분명', '인허가일자']]\n",
    "\n",
    "# 인허가일자 중 연도만 추출\n",
    "df['인허가일자'] = df['인허가일자'].apply(lambda x: str(x)[:4])\n",
    "df['인허가일자'] = df['인허가일자'].astype(int)\n",
    "\n",
    "# 2022년 데이터 제거\n",
    "df = df[df['인허가일자']<2022]\n",
    "\n",
    "df = df.rename(columns={'사업장명':'name', '업태구분명':'type', '인허가일자':'year'})"
   ]
  },
  {
   "cell_type": "code",
   "execution_count": 4,
   "metadata": {},
   "outputs": [],
   "source": [
    "# 숙박업 유형별 가격 산정 / 예상숙박업소가격*예상평균숙박업소객실수*30일*12개월\n",
    "\n",
    "def price(x):\n",
    "    if x == '여관업':\n",
    "        return 30000*20*30*12\n",
    "    elif x == '숙박업(생활)':\n",
    "        return 60000*30*50*12\n",
    "    elif x == '일반호텔':\n",
    "        return 80000*50*30*12\n",
    "    elif x == '여인숙업':\n",
    "        return 30000*20*30*12\n",
    "    elif x == '숙박업 기타':\n",
    "        return 30000*20*30*12\n",
    "    elif x == '관광호텔':\n",
    "        return 80000*50*30*12\n",
    "    else:\n",
    "        return 150000*100*30*12\n",
    "    \n",
    "# 숙박업 유형 변경\n",
    "def hoteltype(x):\n",
    "    if x == '숙박업(생활)':\n",
    "        return '생활형숙박시설'\n",
    "    else:\n",
    "        return '일반숙박시설'"
   ]
  },
  {
   "cell_type": "code",
   "execution_count": 5,
   "metadata": {},
   "outputs": [
    {
     "data": {
      "text/html": [
       "<div>\n",
       "<style scoped>\n",
       "    .dataframe tbody tr th:only-of-type {\n",
       "        vertical-align: middle;\n",
       "    }\n",
       "\n",
       "    .dataframe tbody tr th {\n",
       "        vertical-align: top;\n",
       "    }\n",
       "\n",
       "    .dataframe thead th {\n",
       "        text-align: right;\n",
       "    }\n",
       "</style>\n",
       "<table border=\"1\" class=\"dataframe\">\n",
       "  <thead>\n",
       "    <tr style=\"text-align: right;\">\n",
       "      <th></th>\n",
       "      <th>name</th>\n",
       "      <th>type</th>\n",
       "      <th>year</th>\n",
       "      <th>price</th>\n",
       "    </tr>\n",
       "  </thead>\n",
       "  <tbody>\n",
       "    <tr>\n",
       "      <th>0</th>\n",
       "      <td>야자</td>\n",
       "      <td>일반숙박시설</td>\n",
       "      <td>2005</td>\n",
       "      <td>216000000</td>\n",
       "    </tr>\n",
       "    <tr>\n",
       "      <th>1</th>\n",
       "      <td>엔(N)모텔</td>\n",
       "      <td>일반숙박시설</td>\n",
       "      <td>2000</td>\n",
       "      <td>216000000</td>\n",
       "    </tr>\n",
       "    <tr>\n",
       "      <th>2</th>\n",
       "      <td>디오앤에스임동</td>\n",
       "      <td>생활형숙박시설</td>\n",
       "      <td>1985</td>\n",
       "      <td>1080000000</td>\n",
       "    </tr>\n",
       "    <tr>\n",
       "      <th>3</th>\n",
       "      <td>에로스모텔</td>\n",
       "      <td>일반숙박시설</td>\n",
       "      <td>2000</td>\n",
       "      <td>216000000</td>\n",
       "    </tr>\n",
       "    <tr>\n",
       "      <th>4</th>\n",
       "      <td>클라우드인호텔</td>\n",
       "      <td>일반숙박시설</td>\n",
       "      <td>2002</td>\n",
       "      <td>216000000</td>\n",
       "    </tr>\n",
       "  </tbody>\n",
       "</table>\n",
       "</div>"
      ],
      "text/plain": [
       "      name     type  year       price\n",
       "0       야자   일반숙박시설  2005   216000000\n",
       "1   엔(N)모텔   일반숙박시설  2000   216000000\n",
       "2  디오앤에스임동  생활형숙박시설  1985  1080000000\n",
       "3    에로스모텔   일반숙박시설  2000   216000000\n",
       "4  클라우드인호텔   일반숙박시설  2002   216000000"
      ]
     },
     "execution_count": 5,
     "metadata": {},
     "output_type": "execute_result"
    }
   ],
   "source": [
    "df['price'] = df['type'].apply(price)\n",
    "df['type'] = df['type'].apply(hoteltype)\n",
    "df.head()"
   ]
  },
  {
   "cell_type": "code",
   "execution_count": 6,
   "metadata": {},
   "outputs": [
    {
     "data": {
      "text/html": [
       "<div>\n",
       "<style scoped>\n",
       "    .dataframe tbody tr th:only-of-type {\n",
       "        vertical-align: middle;\n",
       "    }\n",
       "\n",
       "    .dataframe tbody tr th {\n",
       "        vertical-align: top;\n",
       "    }\n",
       "\n",
       "    .dataframe thead th {\n",
       "        text-align: right;\n",
       "    }\n",
       "</style>\n",
       "<table border=\"1\" class=\"dataframe\">\n",
       "  <thead>\n",
       "    <tr style=\"text-align: right;\">\n",
       "      <th></th>\n",
       "      <th>name</th>\n",
       "      <th>type</th>\n",
       "      <th>year</th>\n",
       "      <th>price</th>\n",
       "    </tr>\n",
       "  </thead>\n",
       "  <tbody>\n",
       "    <tr>\n",
       "      <th>6</th>\n",
       "      <td>게스트 145</td>\n",
       "      <td>일반숙박시설</td>\n",
       "      <td>2017</td>\n",
       "      <td>1440000000</td>\n",
       "    </tr>\n",
       "    <tr>\n",
       "      <th>33</th>\n",
       "      <td>파라다이스모텔</td>\n",
       "      <td>일반숙박시설</td>\n",
       "      <td>2011</td>\n",
       "      <td>216000000</td>\n",
       "    </tr>\n",
       "    <tr>\n",
       "      <th>40</th>\n",
       "      <td>네모모텔</td>\n",
       "      <td>일반숙박시설</td>\n",
       "      <td>2018</td>\n",
       "      <td>216000000</td>\n",
       "    </tr>\n",
       "    <tr>\n",
       "      <th>43</th>\n",
       "      <td>프리마</td>\n",
       "      <td>일반숙박시설</td>\n",
       "      <td>2016</td>\n",
       "      <td>216000000</td>\n",
       "    </tr>\n",
       "    <tr>\n",
       "      <th>58</th>\n",
       "      <td>아리랑 민속모텔</td>\n",
       "      <td>일반숙박시설</td>\n",
       "      <td>2010</td>\n",
       "      <td>216000000</td>\n",
       "    </tr>\n",
       "  </tbody>\n",
       "</table>\n",
       "</div>"
      ],
      "text/plain": [
       "        name    type  year       price\n",
       "6    게스트 145  일반숙박시설  2017  1440000000\n",
       "33   파라다이스모텔  일반숙박시설  2011   216000000\n",
       "40      네모모텔  일반숙박시설  2018   216000000\n",
       "43       프리마  일반숙박시설  2016   216000000\n",
       "58  아리랑 민속모텔  일반숙박시설  2010   216000000"
      ]
     },
     "metadata": {},
     "output_type": "display_data"
    },
    {
     "data": {
      "text/html": [
       "<div>\n",
       "<style scoped>\n",
       "    .dataframe tbody tr th:only-of-type {\n",
       "        vertical-align: middle;\n",
       "    }\n",
       "\n",
       "    .dataframe tbody tr th {\n",
       "        vertical-align: top;\n",
       "    }\n",
       "\n",
       "    .dataframe thead th {\n",
       "        text-align: right;\n",
       "    }\n",
       "</style>\n",
       "<table border=\"1\" class=\"dataframe\">\n",
       "  <thead>\n",
       "    <tr style=\"text-align: right;\">\n",
       "      <th></th>\n",
       "      <th>name</th>\n",
       "      <th>type</th>\n",
       "      <th>year</th>\n",
       "      <th>price</th>\n",
       "    </tr>\n",
       "  </thead>\n",
       "  <tbody>\n",
       "    <tr>\n",
       "      <th>330</th>\n",
       "      <td>청춘게스트하우스 호스텔</td>\n",
       "      <td>생활형숙박시설</td>\n",
       "      <td>2017</td>\n",
       "      <td>1080000000</td>\n",
       "    </tr>\n",
       "    <tr>\n",
       "      <th>349</th>\n",
       "      <td>부례관광지바이크텔</td>\n",
       "      <td>생활형숙박시설</td>\n",
       "      <td>2017</td>\n",
       "      <td>1080000000</td>\n",
       "    </tr>\n",
       "    <tr>\n",
       "      <th>354</th>\n",
       "      <td>대가야왕가마을</td>\n",
       "      <td>생활형숙박시설</td>\n",
       "      <td>2010</td>\n",
       "      <td>1080000000</td>\n",
       "    </tr>\n",
       "    <tr>\n",
       "      <th>412</th>\n",
       "      <td>호텔로제니아</td>\n",
       "      <td>생활형숙박시설</td>\n",
       "      <td>2014</td>\n",
       "      <td>1080000000</td>\n",
       "    </tr>\n",
       "    <tr>\n",
       "      <th>479</th>\n",
       "      <td>별빛테마마을 펜션동</td>\n",
       "      <td>생활형숙박시설</td>\n",
       "      <td>2018</td>\n",
       "      <td>1080000000</td>\n",
       "    </tr>\n",
       "  </tbody>\n",
       "</table>\n",
       "</div>"
      ],
      "text/plain": [
       "             name     type  year       price\n",
       "330  청춘게스트하우스 호스텔  생활형숙박시설  2017  1080000000\n",
       "349     부례관광지바이크텔  생활형숙박시설  2017  1080000000\n",
       "354       대가야왕가마을  생활형숙박시설  2010  1080000000\n",
       "412        호텔로제니아  생활형숙박시설  2014  1080000000\n",
       "479    별빛테마마을 펜션동  생활형숙박시설  2018  1080000000"
      ]
     },
     "metadata": {},
     "output_type": "display_data"
    }
   ],
   "source": [
    "# 2010년 이후 데이터만 출력\n",
    "\n",
    "after2010 = df[df['year']>=2010]\n",
    "df_normal = after2010[after2010['type']=='일반숙박시설']\n",
    "df_residence = after2010[after2010['type']=='생활형숙박시설']\n",
    "display(df_normal.head())\n",
    "display(df_residence.head())"
   ]
  },
  {
   "cell_type": "code",
   "execution_count": 7,
   "metadata": {},
   "outputs": [],
   "source": [
    "year_list = list(np.arange(2010,2022,1))*2\n",
    "type_list = ['일반숙박시설']*12+['생활형숙박시설']*12\n",
    "price_list = list(df_normal.groupby('year')['price'].sum()) + list(df_residence.groupby('year')['price'].sum())\n",
    "cumsum_list = list(df_normal.groupby('year')['price'].sum().cumsum()) + list(df_residence.groupby('year')['price'].sum().cumsum())"
   ]
  },
  {
   "cell_type": "code",
   "execution_count": 8,
   "metadata": {},
   "outputs": [],
   "source": [
    "df_price = pd.DataFrame({'year':year_list, 'type':type_list, 'price':price_list, 'cumsum':cumsum_list})"
   ]
  },
  {
   "cell_type": "code",
   "execution_count": 9,
   "metadata": {},
   "outputs": [],
   "source": [
    "# 증가율\n",
    "rate_list = [0,]\n",
    "\n",
    "for i in range(11):\n",
    "    rate_list.append((df_price['price'][i+1]-df_price['price'][i])/df_price['price'][i])\n",
    "\n",
    "rate_list.append(0)\n",
    "\n",
    "for i in range(12,len(df_price)-1):\n",
    "    rate_list.append((df_price['price'][i+1]-df_price['price'][i])/df_price['price'][i])\n",
    "    \n",
    "df_price['rate'] = rate_list;"
   ]
  },
  {
   "cell_type": "code",
   "execution_count": 10,
   "metadata": {},
   "outputs": [],
   "source": [
    "# 3년 평균 증가율\n",
    "exp_list = [0,0]\n",
    "\n",
    "for i in range(10):\n",
    "    exp_list.append((df_price['rate'][i]+df_price['rate'][i+1]+df_price['rate'][i+2])/3)\n",
    "\n",
    "exp_list.extend([0,0])\n",
    "\n",
    "for i in range(12,len(df_price)-2):\n",
    "    exp_list.append((df_price['rate'][i]+df_price['rate'][i+1]+df_price['rate'][i+2])/3)\n",
    "    \n",
    "df_price['expectation_rate'] = exp_list;"
   ]
  },
  {
   "cell_type": "code",
   "execution_count": 11,
   "metadata": {},
   "outputs": [],
   "source": [
    "x = np.arange(12)\n",
    "y_normal= list(df_normal.groupby('year')['price'].sum().cumsum())\n",
    "y_residence = list(df_residence.groupby('year')['price'].sum().cumsum())\n",
    "lst_normal = pd.DataFrame({'x':x, 'y':y_normal})\n",
    "lst_residence = pd.DataFrame({'x':x, 'y':y_residence})"
   ]
  },
  {
   "cell_type": "markdown",
   "metadata": {},
   "source": [
    "- Regression Fitting (Prediction)"
   ]
  },
  {
   "cell_type": "code",
   "execution_count": 12,
   "metadata": {},
   "outputs": [
    {
     "name": "stderr",
     "output_type": "stream",
     "text": [
      "C:\\Users\\zyunhyeok\\anaconda3\\envs\\dl\\lib\\site-packages\\scipy\\stats\\stats.py:1541: UserWarning: kurtosistest only valid for n>=20 ... continuing anyway, n=12\n",
      "  warnings.warn(\"kurtosistest only valid for n>=20 ... continuing \"\n"
     ]
    },
    {
     "data": {
      "text/html": [
       "<table class=\"simpletable\">\n",
       "<caption>OLS Regression Results</caption>\n",
       "<tr>\n",
       "  <th>Dep. Variable:</th>        <td>y_normal</td>     <th>  R-squared:         </th> <td>   0.995</td>\n",
       "</tr>\n",
       "<tr>\n",
       "  <th>Model:</th>                   <td>OLS</td>       <th>  Adj. R-squared:    </th> <td>   0.994</td>\n",
       "</tr>\n",
       "<tr>\n",
       "  <th>Method:</th>             <td>Least Squares</td>  <th>  F-statistic:       </th> <td>   949.8</td>\n",
       "</tr>\n",
       "<tr>\n",
       "  <th>Date:</th>             <td>Wed, 16 Feb 2022</td> <th>  Prob (F-statistic):</th> <td>3.40e-11</td>\n",
       "</tr>\n",
       "<tr>\n",
       "  <th>Time:</th>                 <td>16:37:06</td>     <th>  Log-Likelihood:    </th> <td> -317.94</td>\n",
       "</tr>\n",
       "<tr>\n",
       "  <th>No. Observations:</th>      <td>    12</td>      <th>  AIC:               </th> <td>   641.9</td>\n",
       "</tr>\n",
       "<tr>\n",
       "  <th>Df Residuals:</th>          <td>     9</td>      <th>  BIC:               </th> <td>   643.3</td>\n",
       "</tr>\n",
       "<tr>\n",
       "  <th>Df Model:</th>              <td>     2</td>      <th>                     </th>     <td> </td>   \n",
       "</tr>\n",
       "<tr>\n",
       "  <th>Covariance Type:</th>      <td>nonrobust</td>    <th>                     </th>     <td> </td>   \n",
       "</tr>\n",
       "</table>\n",
       "<table class=\"simpletable\">\n",
       "<tr>\n",
       "        <td></td>          <th>coef</th>     <th>std err</th>      <th>t</th>      <th>P>|t|</th>  <th>[0.025</th>    <th>0.975]</th>  \n",
       "</tr>\n",
       "<tr>\n",
       "  <th>Intercept</th>    <td> 5.915e+10</td> <td> 6.63e+10</td> <td>    0.892</td> <td> 0.396</td> <td>-9.08e+10</td> <td> 2.09e+11</td>\n",
       "</tr>\n",
       "<tr>\n",
       "  <th>x</th>            <td> 2.884e+11</td> <td>  2.8e+10</td> <td>   10.293</td> <td> 0.000</td> <td> 2.25e+11</td> <td> 3.52e+11</td>\n",
       "</tr>\n",
       "<tr>\n",
       "  <th>np.square(x)</th> <td> 3.476e+09</td> <td> 2.45e+09</td> <td>    1.416</td> <td> 0.190</td> <td>-2.08e+09</td> <td> 9.03e+09</td>\n",
       "</tr>\n",
       "</table>\n",
       "<table class=\"simpletable\">\n",
       "<tr>\n",
       "  <th>Omnibus:</th>       <td> 1.949</td> <th>  Durbin-Watson:     </th> <td>   0.724</td>\n",
       "</tr>\n",
       "<tr>\n",
       "  <th>Prob(Omnibus):</th> <td> 0.377</td> <th>  Jarque-Bera (JB):  </th> <td>   0.874</td>\n",
       "</tr>\n",
       "<tr>\n",
       "  <th>Skew:</th>          <td> 0.060</td> <th>  Prob(JB):          </th> <td>   0.646</td>\n",
       "</tr>\n",
       "<tr>\n",
       "  <th>Kurtosis:</th>      <td> 1.684</td> <th>  Cond. No.          </th> <td>    158.</td>\n",
       "</tr>\n",
       "</table><br/><br/>Notes:<br/>[1] Standard Errors assume that the covariance matrix of the errors is correctly specified."
      ],
      "text/plain": [
       "<class 'statsmodels.iolib.summary.Summary'>\n",
       "\"\"\"\n",
       "                            OLS Regression Results                            \n",
       "==============================================================================\n",
       "Dep. Variable:               y_normal   R-squared:                       0.995\n",
       "Model:                            OLS   Adj. R-squared:                  0.994\n",
       "Method:                 Least Squares   F-statistic:                     949.8\n",
       "Date:                Wed, 16 Feb 2022   Prob (F-statistic):           3.40e-11\n",
       "Time:                        16:37:06   Log-Likelihood:                -317.94\n",
       "No. Observations:                  12   AIC:                             641.9\n",
       "Df Residuals:                       9   BIC:                             643.3\n",
       "Df Model:                           2                                         \n",
       "Covariance Type:            nonrobust                                         \n",
       "================================================================================\n",
       "                   coef    std err          t      P>|t|      [0.025      0.975]\n",
       "--------------------------------------------------------------------------------\n",
       "Intercept     5.915e+10   6.63e+10      0.892      0.396   -9.08e+10    2.09e+11\n",
       "x             2.884e+11    2.8e+10     10.293      0.000    2.25e+11    3.52e+11\n",
       "np.square(x)  3.476e+09   2.45e+09      1.416      0.190   -2.08e+09    9.03e+09\n",
       "==============================================================================\n",
       "Omnibus:                        1.949   Durbin-Watson:                   0.724\n",
       "Prob(Omnibus):                  0.377   Jarque-Bera (JB):                0.874\n",
       "Skew:                           0.060   Prob(JB):                        0.646\n",
       "Kurtosis:                       1.684   Cond. No.                         158.\n",
       "==============================================================================\n",
       "\n",
       "Notes:\n",
       "[1] Standard Errors assume that the covariance matrix of the errors is correctly specified.\n",
       "\"\"\""
      ]
     },
     "execution_count": 12,
     "metadata": {},
     "output_type": "execute_result"
    }
   ],
   "source": [
    "# 일반숙박시설 시장규모 2차 회귀식 적합\n",
    "\n",
    "model_normal = smf.ols(\"y_normal~x+np.square(x)\", data=lst_normal).fit()\n",
    "model_normal.summary()"
   ]
  },
  {
   "cell_type": "code",
   "execution_count": 13,
   "metadata": {},
   "outputs": [
    {
     "name": "stderr",
     "output_type": "stream",
     "text": [
      "C:\\Users\\zyunhyeok\\anaconda3\\envs\\dl\\lib\\site-packages\\scipy\\stats\\stats.py:1541: UserWarning: kurtosistest only valid for n>=20 ... continuing anyway, n=12\n",
      "  warnings.warn(\"kurtosistest only valid for n>=20 ... continuing \"\n"
     ]
    },
    {
     "data": {
      "text/html": [
       "<table class=\"simpletable\">\n",
       "<caption>OLS Regression Results</caption>\n",
       "<tr>\n",
       "  <th>Dep. Variable:</th>       <td>y_residence</td>   <th>  R-squared:         </th> <td>   0.999</td>\n",
       "</tr>\n",
       "<tr>\n",
       "  <th>Model:</th>                   <td>OLS</td>       <th>  Adj. R-squared:    </th> <td>   0.999</td>\n",
       "</tr>\n",
       "<tr>\n",
       "  <th>Method:</th>             <td>Least Squares</td>  <th>  F-statistic:       </th> <td>   7101.</td>\n",
       "</tr>\n",
       "<tr>\n",
       "  <th>Date:</th>             <td>Wed, 16 Feb 2022</td> <th>  Prob (F-statistic):</th> <td>4.05e-15</td>\n",
       "</tr>\n",
       "<tr>\n",
       "  <th>Time:</th>                 <td>16:37:06</td>     <th>  Log-Likelihood:    </th> <td> -307.18</td>\n",
       "</tr>\n",
       "<tr>\n",
       "  <th>No. Observations:</th>      <td>    12</td>      <th>  AIC:               </th> <td>   620.4</td>\n",
       "</tr>\n",
       "<tr>\n",
       "  <th>Df Residuals:</th>          <td>     9</td>      <th>  BIC:               </th> <td>   621.8</td>\n",
       "</tr>\n",
       "<tr>\n",
       "  <th>Df Model:</th>              <td>     2</td>      <th>                     </th>     <td> </td>   \n",
       "</tr>\n",
       "<tr>\n",
       "  <th>Covariance Type:</th>      <td>nonrobust</td>    <th>                     </th>     <td> </td>   \n",
       "</tr>\n",
       "</table>\n",
       "<table class=\"simpletable\">\n",
       "<tr>\n",
       "        <td></td>          <th>coef</th>     <th>std err</th>      <th>t</th>      <th>P>|t|</th>  <th>[0.025</th>    <th>0.975]</th>  \n",
       "</tr>\n",
       "<tr>\n",
       "  <th>Intercept</th>    <td> 8.639e+10</td> <td> 2.71e+10</td> <td>    3.192</td> <td> 0.011</td> <td> 2.52e+10</td> <td> 1.48e+11</td>\n",
       "</tr>\n",
       "<tr>\n",
       "  <th>x</th>            <td> 1.023e+11</td> <td> 1.14e+10</td> <td>    8.940</td> <td> 0.000</td> <td> 7.64e+10</td> <td> 1.28e+11</td>\n",
       "</tr>\n",
       "<tr>\n",
       "  <th>np.square(x)</th> <td> 2.323e+10</td> <td>    1e+09</td> <td>   23.188</td> <td> 0.000</td> <td>  2.1e+10</td> <td> 2.55e+10</td>\n",
       "</tr>\n",
       "</table>\n",
       "<table class=\"simpletable\">\n",
       "<tr>\n",
       "  <th>Omnibus:</th>       <td> 0.303</td> <th>  Durbin-Watson:     </th> <td>   2.495</td>\n",
       "</tr>\n",
       "<tr>\n",
       "  <th>Prob(Omnibus):</th> <td> 0.859</td> <th>  Jarque-Bera (JB):  </th> <td>   0.442</td>\n",
       "</tr>\n",
       "<tr>\n",
       "  <th>Skew:</th>          <td>-0.226</td> <th>  Prob(JB):          </th> <td>   0.802</td>\n",
       "</tr>\n",
       "<tr>\n",
       "  <th>Kurtosis:</th>      <td> 2.176</td> <th>  Cond. No.          </th> <td>    158.</td>\n",
       "</tr>\n",
       "</table><br/><br/>Notes:<br/>[1] Standard Errors assume that the covariance matrix of the errors is correctly specified."
      ],
      "text/plain": [
       "<class 'statsmodels.iolib.summary.Summary'>\n",
       "\"\"\"\n",
       "                            OLS Regression Results                            \n",
       "==============================================================================\n",
       "Dep. Variable:            y_residence   R-squared:                       0.999\n",
       "Model:                            OLS   Adj. R-squared:                  0.999\n",
       "Method:                 Least Squares   F-statistic:                     7101.\n",
       "Date:                Wed, 16 Feb 2022   Prob (F-statistic):           4.05e-15\n",
       "Time:                        16:37:06   Log-Likelihood:                -307.18\n",
       "No. Observations:                  12   AIC:                             620.4\n",
       "Df Residuals:                       9   BIC:                             621.8\n",
       "Df Model:                           2                                         \n",
       "Covariance Type:            nonrobust                                         \n",
       "================================================================================\n",
       "                   coef    std err          t      P>|t|      [0.025      0.975]\n",
       "--------------------------------------------------------------------------------\n",
       "Intercept     8.639e+10   2.71e+10      3.192      0.011    2.52e+10    1.48e+11\n",
       "x             1.023e+11   1.14e+10      8.940      0.000    7.64e+10    1.28e+11\n",
       "np.square(x)  2.323e+10      1e+09     23.188      0.000     2.1e+10    2.55e+10\n",
       "==============================================================================\n",
       "Omnibus:                        0.303   Durbin-Watson:                   2.495\n",
       "Prob(Omnibus):                  0.859   Jarque-Bera (JB):                0.442\n",
       "Skew:                          -0.226   Prob(JB):                        0.802\n",
       "Kurtosis:                       2.176   Cond. No.                         158.\n",
       "==============================================================================\n",
       "\n",
       "Notes:\n",
       "[1] Standard Errors assume that the covariance matrix of the errors is correctly specified.\n",
       "\"\"\""
      ]
     },
     "execution_count": 13,
     "metadata": {},
     "output_type": "execute_result"
    }
   ],
   "source": [
    "# 생활형숙박시설 시장규모 2차 회귀식 적합\n",
    "\n",
    "model_residence = smf.ols(\"y_residence~x+np.square(x)\", data=lst_residence).fit()\n",
    "model_residence.summary()"
   ]
  },
  {
   "cell_type": "code",
   "execution_count": 14,
   "metadata": {},
   "outputs": [],
   "source": [
    "# 회귀식을 바탕으로 하여 예측값 계산\n",
    "\n",
    "def quadratic_normal(x):\n",
    "    return model_normal.params['np.square(x)']*x**2 + model_normal.params['x']*x + model_normal.params['Intercept']\n",
    "\n",
    "def quadratic_residence(x):\n",
    "    return model_residence.params['np.square(x)']*x**2 + model_residence.params['x']*x + model_residence.params['Intercept']"
   ]
  },
  {
   "cell_type": "code",
   "execution_count": 15,
   "metadata": {},
   "outputs": [],
   "source": [
    "# 2025년까지의 예측값 추가\n",
    "\n",
    "x = np.arange(2010,2026)\n",
    "\n",
    "for i in range(12,16):\n",
    "    y_normal.append(round(quadratic_normal(i)))\n",
    "    y_residence.append(round(quadratic_residence(i)))"
   ]
  },
  {
   "cell_type": "code",
   "execution_count": 16,
   "metadata": {},
   "outputs": [],
   "source": [
    "lst_normal = pd.DataFrame({'x':x, 'y':y_normal})\n",
    "lst_residence = pd.DataFrame({'x':x, 'y':y_residence})"
   ]
  },
  {
   "cell_type": "code",
   "execution_count": 17,
   "metadata": {},
   "outputs": [],
   "source": [
    "price_normal = list(df_normal.groupby('year')['price'].sum())\n",
    "price_residence = list(df_residence.groupby('year')['price'].sum())"
   ]
  },
  {
   "cell_type": "code",
   "execution_count": 18,
   "metadata": {},
   "outputs": [],
   "source": [
    "for i in range(11,15):\n",
    "    price_normal.append(quadratic_normal(i+1) - y_normal[i])\n",
    "    price_residence.append(quadratic_residence(i+1) - y_residence[i])"
   ]
  },
  {
   "cell_type": "code",
   "execution_count": 19,
   "metadata": {},
   "outputs": [],
   "source": [
    "year_list = list(np.arange(2010,2026,1))*2\n",
    "type_list = ['일반숙박시설']*16+['생활형숙박시설']*16\n",
    "price_list = list(price_normal) + list(price_residence)\n",
    "cumsum_list = y_normal+y_residence"
   ]
  },
  {
   "cell_type": "code",
   "execution_count": 20,
   "metadata": {},
   "outputs": [],
   "source": [
    "df_pred = pd.DataFrame({'year':year_list, 'type':type_list, 'price':price_list, 'cumsum':cumsum_list})"
   ]
  },
  {
   "cell_type": "markdown",
   "metadata": {},
   "source": [
    "# Data Visualization"
   ]
  },
  {
   "cell_type": "code",
   "execution_count": 21,
   "metadata": {},
   "outputs": [],
   "source": [
    "parameters = {'axes.labelsize': 25,\n",
    "          'axes.titlesize': 35,\n",
    "          'xtick.labelsize': 15,\n",
    "          'ytick.labelsize': 15}\n",
    "plt.rcParams.update(parameters)"
   ]
  },
  {
   "cell_type": "code",
   "execution_count": 22,
   "metadata": {},
   "outputs": [
    {
     "data": {
      "image/png": "[encoded data removed]",
      "text/plain": [
       "<Figure size 1080x576 with 1 Axes>"
      ]
     },
     "metadata": {
      "needs_background": "light"
     },
     "output_type": "display_data"
    }
   ],
   "source": [
    "plt.figure(figsize=(15,8))\n",
    "sns.barplot(data=df_price, x=\"year\", y=\"price\", hue=\"type\", palette='Set2')\n",
    "\n",
    "plt.title('2010년~2021년 생활형숙박시설, 일반숙박시설 신규시장규모 비교', fontsize=25)\n",
    "plt.xlabel('연도', fontsize=20)\n",
    "plt.ylabel('시장규모', fontsize=20)\n",
    "plt.legend(fontsize=20, loc = 'best')\n",
    "plt.show()"
   ]
  },
  {
   "cell_type": "code",
   "execution_count": 23,
   "metadata": {},
   "outputs": [
    {
     "data": {
      "image/png": "[encoded data removed]",
      "text/plain": [
       "<Figure size 1080x576 with 1 Axes>"
      ]
     },
     "metadata": {
      "needs_background": "light"
     },
     "output_type": "display_data"
    }
   ],
   "source": [
    "plt.figure(figsize=(15,8))\n",
    "sns.barplot(data=df_price, x=\"year\", y=\"cumsum\", hue=\"type\", palette='Set2')\n",
    "\n",
    "plt.title('2010년~2021년 생활형숙박시설, 일반숙박시설 시장규모 비교', fontsize=25)\n",
    "plt.xlabel('연도', fontsize=20)\n",
    "plt.ylabel('시장규모', fontsize=20)\n",
    "plt.legend(fontsize=20, loc = 'best')\n",
    "plt.show()"
   ]
  },
  {
   "cell_type": "code",
   "execution_count": 24,
   "metadata": {},
   "outputs": [
    {
     "data": {
      "image/png": "[encoded data removed]",
      "text/plain": [
       "<Figure size 1080x576 with 1 Axes>"
      ]
     },
     "metadata": {
      "needs_background": "light"
     },
     "output_type": "display_data"
    }
   ],
   "source": [
    "plt.figure(figsize=(15,8))\n",
    "sns.barplot(data=df_pred, x=\"year\", y=\"price\", hue=\"type\", palette='Set2')\n",
    "\n",
    "plt.title('생활형숙박시설, 일반숙박시설 신규시장규모 향후예측', fontsize=25)\n",
    "plt.xlabel('연도', fontsize=20)\n",
    "plt.ylabel('시장규모', fontsize=20)\n",
    "plt.legend(fontsize=20, loc = 'best')\n",
    "plt.show()"
   ]
  },
  {
   "cell_type": "code",
   "execution_count": 25,
   "metadata": {},
   "outputs": [
    {
     "data": {
      "image/png": "[encoded data removed]",
      "text/plain": [
       "<Figure size 1080x576 with 1 Axes>"
      ]
     },
     "metadata": {
      "needs_background": "light"
     },
     "output_type": "display_data"
    }
   ],
   "source": [
    "plt.figure(figsize=(15,8))\n",
    "sns.barplot(data=df_pred, x=\"year\", y=\"cumsum\", hue=\"type\", palette='Set2')\n",
    "\n",
    "plt.title('생활형숙박시설, 일반숙박시설 시장규모 향후예측', fontsize=25)\n",
    "plt.xlabel('연도', fontsize=20)\n",
    "plt.ylabel('시장규모', fontsize=20)\n",
    "plt.legend(fontsize=20, loc = 'best')\n",
    "plt.show()"
   ]
  }
 ],
 "metadata": {
  "interpreter": {
   "hash": "e5e7a4ae074c9185eb39640c1947b0bd5a2cef738bac641e5c723955a7cf82e8"
  },
  "kernelspec": {
   "display_name": "Python 3.9.7 ('dl')",
   "language": "python",
   "name": "python3"
  },
  "language_info": {
   "codemirror_mode": {
    "name": "ipython",
    "version": 3
   },
   "file_extension": ".py",
   "mimetype": "text/x-python",
   "name": "python",
   "nbconvert_exporter": "python",
   "pygments_lexer": "ipython3",
   "version": "3.8.0"
  },
  "orig_nbformat": 4
 },
 "nbformat": 4,
 "nbformat_minor": 2
}
